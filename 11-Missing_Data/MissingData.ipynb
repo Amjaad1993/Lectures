{
 "cells": [
  {
   "cell_type": "markdown",
   "id": "exclusive-accused",
   "metadata": {},
   "source": [
    "# Exploratory Data Analysis "
   ]
  },
  {
   "cell_type": "markdown",
   "id": "devoted-villa",
   "metadata": {},
   "source": [
    "### Imporrt Libraries"
   ]
  },
  {
   "cell_type": "code",
   "execution_count": 1,
   "id": "equal-wesley",
   "metadata": {},
   "outputs": [],
   "source": [
    "import pandas as pd \n",
    "import numpy as np\n",
    "import seaborn as sns\n",
    "import plotly.express as px\n",
    "import matplotlib.pyplot as plt"
   ]
  },
  {
   "cell_type": "markdown",
   "id": "standing-india",
   "metadata": {},
   "source": [
    "### Missing Values"
   ]
  },
  {
   "cell_type": "code",
   "execution_count": 2,
   "id": "smooth-document",
   "metadata": {},
   "outputs": [],
   "source": [
    "data= {'Name':['Ali','Abduallah','Sultan','Sami','Khalid','Amal','Maha','Razan','Amjad','Shahed'],\n",
    "      'Gender':['Male','Male','Male','Male','Male','Female','Female','Female','Female','Female'],\n",
    "      'Income':[5000, 7000, 3000, 7000, 3000, 5000, 7000, 3000, 7000, 1000]}\n",
    "\n",
    "data = pd.DataFrame(data)"
   ]
  },
  {
   "cell_type": "code",
   "execution_count": 3,
   "id": "interstate-proceeding",
   "metadata": {},
   "outputs": [
    {
     "data": {
      "text/html": [
       "<div>\n",
       "<style scoped>\n",
       "    .dataframe tbody tr th:only-of-type {\n",
       "        vertical-align: middle;\n",
       "    }\n",
       "\n",
       "    .dataframe tbody tr th {\n",
       "        vertical-align: top;\n",
       "    }\n",
       "\n",
       "    .dataframe thead th {\n",
       "        text-align: right;\n",
       "    }\n",
       "</style>\n",
       "<table border=\"1\" class=\"dataframe\">\n",
       "  <thead>\n",
       "    <tr style=\"text-align: right;\">\n",
       "      <th></th>\n",
       "      <th>Name</th>\n",
       "      <th>Gender</th>\n",
       "      <th>Income</th>\n",
       "    </tr>\n",
       "  </thead>\n",
       "  <tbody>\n",
       "    <tr>\n",
       "      <th>0</th>\n",
       "      <td>Ali</td>\n",
       "      <td>Male</td>\n",
       "      <td>5000</td>\n",
       "    </tr>\n",
       "    <tr>\n",
       "      <th>1</th>\n",
       "      <td>Abduallah</td>\n",
       "      <td>Male</td>\n",
       "      <td>7000</td>\n",
       "    </tr>\n",
       "    <tr>\n",
       "      <th>2</th>\n",
       "      <td>Sultan</td>\n",
       "      <td>Male</td>\n",
       "      <td>3000</td>\n",
       "    </tr>\n",
       "    <tr>\n",
       "      <th>3</th>\n",
       "      <td>Sami</td>\n",
       "      <td>Male</td>\n",
       "      <td>7000</td>\n",
       "    </tr>\n",
       "    <tr>\n",
       "      <th>4</th>\n",
       "      <td>Khalid</td>\n",
       "      <td>Male</td>\n",
       "      <td>3000</td>\n",
       "    </tr>\n",
       "    <tr>\n",
       "      <th>5</th>\n",
       "      <td>Amal</td>\n",
       "      <td>Female</td>\n",
       "      <td>5000</td>\n",
       "    </tr>\n",
       "    <tr>\n",
       "      <th>6</th>\n",
       "      <td>Maha</td>\n",
       "      <td>Female</td>\n",
       "      <td>7000</td>\n",
       "    </tr>\n",
       "    <tr>\n",
       "      <th>7</th>\n",
       "      <td>Razan</td>\n",
       "      <td>Female</td>\n",
       "      <td>3000</td>\n",
       "    </tr>\n",
       "    <tr>\n",
       "      <th>8</th>\n",
       "      <td>Amjad</td>\n",
       "      <td>Female</td>\n",
       "      <td>7000</td>\n",
       "    </tr>\n",
       "    <tr>\n",
       "      <th>9</th>\n",
       "      <td>Shahed</td>\n",
       "      <td>Female</td>\n",
       "      <td>1000</td>\n",
       "    </tr>\n",
       "  </tbody>\n",
       "</table>\n",
       "</div>"
      ],
      "text/plain": [
       "        Name  Gender  Income\n",
       "0        Ali    Male    5000\n",
       "1  Abduallah    Male    7000\n",
       "2     Sultan    Male    3000\n",
       "3       Sami    Male    7000\n",
       "4     Khalid    Male    3000\n",
       "5       Amal  Female    5000\n",
       "6       Maha  Female    7000\n",
       "7      Razan  Female    3000\n",
       "8      Amjad  Female    7000\n",
       "9     Shahed  Female    1000"
      ]
     },
     "execution_count": 3,
     "metadata": {},
     "output_type": "execute_result"
    }
   ],
   "source": [
    "data"
   ]
  },
  {
   "cell_type": "code",
   "execution_count": 4,
   "id": "stock-triangle",
   "metadata": {},
   "outputs": [
    {
     "data": {
      "text/html": [
       "<div>\n",
       "<style scoped>\n",
       "    .dataframe tbody tr th:only-of-type {\n",
       "        vertical-align: middle;\n",
       "    }\n",
       "\n",
       "    .dataframe tbody tr th {\n",
       "        vertical-align: top;\n",
       "    }\n",
       "\n",
       "    .dataframe thead th {\n",
       "        text-align: right;\n",
       "    }\n",
       "</style>\n",
       "<table border=\"1\" class=\"dataframe\">\n",
       "  <thead>\n",
       "    <tr style=\"text-align: right;\">\n",
       "      <th></th>\n",
       "      <th>Name</th>\n",
       "      <th>Gender</th>\n",
       "      <th>Income</th>\n",
       "    </tr>\n",
       "  </thead>\n",
       "  <tbody>\n",
       "    <tr>\n",
       "      <th>5</th>\n",
       "      <td>Amal</td>\n",
       "      <td>Female</td>\n",
       "      <td>5000</td>\n",
       "    </tr>\n",
       "    <tr>\n",
       "      <th>6</th>\n",
       "      <td>Maha</td>\n",
       "      <td>Female</td>\n",
       "      <td>7000</td>\n",
       "    </tr>\n",
       "    <tr>\n",
       "      <th>7</th>\n",
       "      <td>Razan</td>\n",
       "      <td>Female</td>\n",
       "      <td>3000</td>\n",
       "    </tr>\n",
       "    <tr>\n",
       "      <th>8</th>\n",
       "      <td>Amjad</td>\n",
       "      <td>Female</td>\n",
       "      <td>7000</td>\n",
       "    </tr>\n",
       "    <tr>\n",
       "      <th>9</th>\n",
       "      <td>Shahed</td>\n",
       "      <td>Female</td>\n",
       "      <td>1000</td>\n",
       "    </tr>\n",
       "  </tbody>\n",
       "</table>\n",
       "</div>"
      ],
      "text/plain": [
       "     Name  Gender  Income\n",
       "5    Amal  Female    5000\n",
       "6    Maha  Female    7000\n",
       "7   Razan  Female    3000\n",
       "8   Amjad  Female    7000\n",
       "9  Shahed  Female    1000"
      ]
     },
     "execution_count": 4,
     "metadata": {},
     "output_type": "execute_result"
    }
   ],
   "source": [
    "condition = data[\"Gender\"] == \"Female\"\n",
    "\n",
    "female_data = data[condition]\n",
    "female_data"
   ]
  },
  {
   "cell_type": "code",
   "execution_count": 5,
   "id": "rubber-witness",
   "metadata": {},
   "outputs": [
    {
     "data": {
      "text/plain": [
       "4600.0"
      ]
     },
     "execution_count": 5,
     "metadata": {},
     "output_type": "execute_result"
    }
   ],
   "source": [
    "female_data.Income.mean()"
   ]
  },
  {
   "cell_type": "code",
   "execution_count": 6,
   "id": "eligible-ultimate",
   "metadata": {},
   "outputs": [
    {
     "data": {
      "text/plain": [
       "5000.0"
      ]
     },
     "execution_count": 6,
     "metadata": {},
     "output_type": "execute_result"
    }
   ],
   "source": [
    "male_data = data[data[\"Gender\"] == \"Male\"]\n",
    "\n",
    "male_data.Income.mean()"
   ]
  },
  {
   "cell_type": "code",
   "execution_count": 7,
   "id": "sharing-advantage",
   "metadata": {},
   "outputs": [],
   "source": [
    "data = {'Name':['Ali','Abduallah','Sultan','Sami','Khalid','Amal','Maha','Razan','Amjad','Shahed'],\n",
    "      'Gender':['Male','Male','Male','Male','Male','Female','Female','Female','Female','Female'],\n",
    "      'Income':[5000, np.nan, 3000, 7000, np.nan, 5000, np.nan, np.nan, 7000, 1000]}\n",
    "\n",
    "data = pd.DataFrame(data)"
   ]
  },
  {
   "cell_type": "code",
   "execution_count": 8,
   "id": "single-change",
   "metadata": {
    "scrolled": true
   },
   "outputs": [
    {
     "data": {
      "text/html": [
       "<div>\n",
       "<style scoped>\n",
       "    .dataframe tbody tr th:only-of-type {\n",
       "        vertical-align: middle;\n",
       "    }\n",
       "\n",
       "    .dataframe tbody tr th {\n",
       "        vertical-align: top;\n",
       "    }\n",
       "\n",
       "    .dataframe thead th {\n",
       "        text-align: right;\n",
       "    }\n",
       "</style>\n",
       "<table border=\"1\" class=\"dataframe\">\n",
       "  <thead>\n",
       "    <tr style=\"text-align: right;\">\n",
       "      <th></th>\n",
       "      <th>Name</th>\n",
       "      <th>Gender</th>\n",
       "      <th>Income</th>\n",
       "    </tr>\n",
       "  </thead>\n",
       "  <tbody>\n",
       "    <tr>\n",
       "      <th>0</th>\n",
       "      <td>Ali</td>\n",
       "      <td>Male</td>\n",
       "      <td>5000.0</td>\n",
       "    </tr>\n",
       "    <tr>\n",
       "      <th>1</th>\n",
       "      <td>Abduallah</td>\n",
       "      <td>Male</td>\n",
       "      <td>NaN</td>\n",
       "    </tr>\n",
       "    <tr>\n",
       "      <th>2</th>\n",
       "      <td>Sultan</td>\n",
       "      <td>Male</td>\n",
       "      <td>3000.0</td>\n",
       "    </tr>\n",
       "    <tr>\n",
       "      <th>3</th>\n",
       "      <td>Sami</td>\n",
       "      <td>Male</td>\n",
       "      <td>7000.0</td>\n",
       "    </tr>\n",
       "    <tr>\n",
       "      <th>4</th>\n",
       "      <td>Khalid</td>\n",
       "      <td>Male</td>\n",
       "      <td>NaN</td>\n",
       "    </tr>\n",
       "    <tr>\n",
       "      <th>5</th>\n",
       "      <td>Amal</td>\n",
       "      <td>Female</td>\n",
       "      <td>5000.0</td>\n",
       "    </tr>\n",
       "    <tr>\n",
       "      <th>6</th>\n",
       "      <td>Maha</td>\n",
       "      <td>Female</td>\n",
       "      <td>NaN</td>\n",
       "    </tr>\n",
       "    <tr>\n",
       "      <th>7</th>\n",
       "      <td>Razan</td>\n",
       "      <td>Female</td>\n",
       "      <td>NaN</td>\n",
       "    </tr>\n",
       "    <tr>\n",
       "      <th>8</th>\n",
       "      <td>Amjad</td>\n",
       "      <td>Female</td>\n",
       "      <td>7000.0</td>\n",
       "    </tr>\n",
       "    <tr>\n",
       "      <th>9</th>\n",
       "      <td>Shahed</td>\n",
       "      <td>Female</td>\n",
       "      <td>1000.0</td>\n",
       "    </tr>\n",
       "  </tbody>\n",
       "</table>\n",
       "</div>"
      ],
      "text/plain": [
       "        Name  Gender  Income\n",
       "0        Ali    Male  5000.0\n",
       "1  Abduallah    Male     NaN\n",
       "2     Sultan    Male  3000.0\n",
       "3       Sami    Male  7000.0\n",
       "4     Khalid    Male     NaN\n",
       "5       Amal  Female  5000.0\n",
       "6       Maha  Female     NaN\n",
       "7      Razan  Female     NaN\n",
       "8      Amjad  Female  7000.0\n",
       "9     Shahed  Female  1000.0"
      ]
     },
     "execution_count": 8,
     "metadata": {},
     "output_type": "execute_result"
    }
   ],
   "source": [
    "data"
   ]
  },
  {
   "cell_type": "code",
   "execution_count": 9,
   "id": "electronic-ready",
   "metadata": {},
   "outputs": [
    {
     "name": "stdout",
     "output_type": "stream",
     "text": [
      "Male Avg. Income 5000.0\n",
      "Female Avg. Income 4333\n"
     ]
    }
   ],
   "source": [
    "female_data = data[data[\"Gender\"] == \"Female\"]\n",
    "male_data = data[data[\"Gender\"] == \"Male\"]\n",
    "print('Male Avg. Income',male_data.Income.mean())\n",
    "print('Female Avg. Income', round(female_data.Income.mean()))"
   ]
  },
  {
   "cell_type": "code",
   "execution_count": 10,
   "id": "documentary-panel",
   "metadata": {},
   "outputs": [
    {
     "data": {
      "text/html": [
       "<div>\n",
       "<style scoped>\n",
       "    .dataframe tbody tr th:only-of-type {\n",
       "        vertical-align: middle;\n",
       "    }\n",
       "\n",
       "    .dataframe tbody tr th {\n",
       "        vertical-align: top;\n",
       "    }\n",
       "\n",
       "    .dataframe thead th {\n",
       "        text-align: right;\n",
       "    }\n",
       "</style>\n",
       "<table border=\"1\" class=\"dataframe\">\n",
       "  <thead>\n",
       "    <tr style=\"text-align: right;\">\n",
       "      <th></th>\n",
       "      <th>Name</th>\n",
       "      <th>Gender</th>\n",
       "      <th>Income</th>\n",
       "      <th>Work</th>\n",
       "    </tr>\n",
       "  </thead>\n",
       "  <tbody>\n",
       "    <tr>\n",
       "      <th>0</th>\n",
       "      <td>Ali</td>\n",
       "      <td>Male</td>\n",
       "      <td>5000.0</td>\n",
       "      <td>On_site</td>\n",
       "    </tr>\n",
       "    <tr>\n",
       "      <th>1</th>\n",
       "      <td>Abduallah</td>\n",
       "      <td>Male</td>\n",
       "      <td>NaN</td>\n",
       "      <td>Remote</td>\n",
       "    </tr>\n",
       "    <tr>\n",
       "      <th>2</th>\n",
       "      <td>Sultan</td>\n",
       "      <td>Male</td>\n",
       "      <td>3000.0</td>\n",
       "      <td>On_site</td>\n",
       "    </tr>\n",
       "    <tr>\n",
       "      <th>3</th>\n",
       "      <td>Sami</td>\n",
       "      <td>Male</td>\n",
       "      <td>7000.0</td>\n",
       "      <td>On_site</td>\n",
       "    </tr>\n",
       "    <tr>\n",
       "      <th>4</th>\n",
       "      <td>Khalid</td>\n",
       "      <td>Male</td>\n",
       "      <td>NaN</td>\n",
       "      <td>Remote</td>\n",
       "    </tr>\n",
       "    <tr>\n",
       "      <th>5</th>\n",
       "      <td>Amal</td>\n",
       "      <td>Female</td>\n",
       "      <td>5000.0</td>\n",
       "      <td>On_site</td>\n",
       "    </tr>\n",
       "    <tr>\n",
       "      <th>6</th>\n",
       "      <td>Maha</td>\n",
       "      <td>Female</td>\n",
       "      <td>NaN</td>\n",
       "      <td>Remote</td>\n",
       "    </tr>\n",
       "    <tr>\n",
       "      <th>7</th>\n",
       "      <td>Razan</td>\n",
       "      <td>Female</td>\n",
       "      <td>NaN</td>\n",
       "      <td>Remote</td>\n",
       "    </tr>\n",
       "    <tr>\n",
       "      <th>8</th>\n",
       "      <td>Amjad</td>\n",
       "      <td>Female</td>\n",
       "      <td>7000.0</td>\n",
       "      <td>On_site</td>\n",
       "    </tr>\n",
       "    <tr>\n",
       "      <th>9</th>\n",
       "      <td>Shahed</td>\n",
       "      <td>Female</td>\n",
       "      <td>1000.0</td>\n",
       "      <td>On_site</td>\n",
       "    </tr>\n",
       "  </tbody>\n",
       "</table>\n",
       "</div>"
      ],
      "text/plain": [
       "        Name  Gender  Income     Work\n",
       "0        Ali    Male  5000.0  On_site\n",
       "1  Abduallah    Male     NaN   Remote\n",
       "2     Sultan    Male  3000.0  On_site\n",
       "3       Sami    Male  7000.0  On_site\n",
       "4     Khalid    Male     NaN   Remote\n",
       "5       Amal  Female  5000.0  On_site\n",
       "6       Maha  Female     NaN   Remote\n",
       "7      Razan  Female     NaN   Remote\n",
       "8      Amjad  Female  7000.0  On_site\n",
       "9     Shahed  Female  1000.0  On_site"
      ]
     },
     "execution_count": 10,
     "metadata": {},
     "output_type": "execute_result"
    }
   ],
   "source": [
    "data = {'Name':['Ali','Abduallah','Sultan','Sami','Khalid','Amal','Maha','Razan','Amjad','Shahed'],\n",
    "      'Gender':['Male','Male','Male','Male','Male','Female','Female','Female','Female','Female'],\n",
    "      'Income':[5000, np.nan, 3000, 7000, np.nan, 5000, np.nan, np.nan, 7000, 1000],\n",
    "       'Work':['On_site','Remote','On_site','On_site','Remote','On_site','Remote','Remote','On_site','On_site']}\n",
    "\n",
    "data = pd.DataFrame(data)\n",
    "data"
   ]
  },
  {
   "cell_type": "code",
   "execution_count": 11,
   "id": "happy-passage",
   "metadata": {},
   "outputs": [
    {
     "data": {
      "text/html": [
       "<div>\n",
       "<style scoped>\n",
       "    .dataframe tbody tr th:only-of-type {\n",
       "        vertical-align: middle;\n",
       "    }\n",
       "\n",
       "    .dataframe tbody tr th {\n",
       "        vertical-align: top;\n",
       "    }\n",
       "\n",
       "    .dataframe thead th {\n",
       "        text-align: right;\n",
       "    }\n",
       "</style>\n",
       "<table border=\"1\" class=\"dataframe\">\n",
       "  <thead>\n",
       "    <tr style=\"text-align: right;\">\n",
       "      <th></th>\n",
       "      <th>Name</th>\n",
       "      <th>Gender</th>\n",
       "      <th>Income</th>\n",
       "      <th>Work</th>\n",
       "    </tr>\n",
       "  </thead>\n",
       "  <tbody>\n",
       "    <tr>\n",
       "      <th>0</th>\n",
       "      <td>Ali</td>\n",
       "      <td>Male</td>\n",
       "      <td>5000.0</td>\n",
       "      <td>NaN</td>\n",
       "    </tr>\n",
       "    <tr>\n",
       "      <th>1</th>\n",
       "      <td>Abduallah</td>\n",
       "      <td>Male</td>\n",
       "      <td>7000.0</td>\n",
       "      <td>Remote</td>\n",
       "    </tr>\n",
       "    <tr>\n",
       "      <th>2</th>\n",
       "      <td>NaN</td>\n",
       "      <td>Male</td>\n",
       "      <td>NaN</td>\n",
       "      <td>NaN</td>\n",
       "    </tr>\n",
       "    <tr>\n",
       "      <th>3</th>\n",
       "      <td>Sami</td>\n",
       "      <td>Male</td>\n",
       "      <td>7000.0</td>\n",
       "      <td>On_site</td>\n",
       "    </tr>\n",
       "    <tr>\n",
       "      <th>4</th>\n",
       "      <td>NaN</td>\n",
       "      <td>Male</td>\n",
       "      <td>3000.0</td>\n",
       "      <td>Remote</td>\n",
       "    </tr>\n",
       "    <tr>\n",
       "      <th>5</th>\n",
       "      <td>Amal</td>\n",
       "      <td>Female</td>\n",
       "      <td>NaN</td>\n",
       "      <td>On_site</td>\n",
       "    </tr>\n",
       "    <tr>\n",
       "      <th>6</th>\n",
       "      <td>NaN</td>\n",
       "      <td>Female</td>\n",
       "      <td>7000.0</td>\n",
       "      <td>Remote</td>\n",
       "    </tr>\n",
       "    <tr>\n",
       "      <th>7</th>\n",
       "      <td>NaN</td>\n",
       "      <td>Female</td>\n",
       "      <td>3000.0</td>\n",
       "      <td>NaN</td>\n",
       "    </tr>\n",
       "    <tr>\n",
       "      <th>8</th>\n",
       "      <td>Amjad</td>\n",
       "      <td>Female</td>\n",
       "      <td>7000.0</td>\n",
       "      <td>0</td>\n",
       "    </tr>\n",
       "    <tr>\n",
       "      <th>9</th>\n",
       "      <td>Shahed</td>\n",
       "      <td>NaN</td>\n",
       "      <td>1000.0</td>\n",
       "      <td>0</td>\n",
       "    </tr>\n",
       "  </tbody>\n",
       "</table>\n",
       "</div>"
      ],
      "text/plain": [
       "        Name  Gender  Income     Work\n",
       "0        Ali    Male  5000.0      NaN\n",
       "1  Abduallah    Male  7000.0   Remote\n",
       "2        NaN    Male     NaN      NaN\n",
       "3       Sami    Male  7000.0  On_site\n",
       "4        NaN    Male  3000.0   Remote\n",
       "5       Amal  Female     NaN  On_site\n",
       "6        NaN  Female  7000.0   Remote\n",
       "7        NaN  Female  3000.0      NaN\n",
       "8      Amjad  Female  7000.0        0\n",
       "9     Shahed     NaN  1000.0        0"
      ]
     },
     "execution_count": 11,
     "metadata": {},
     "output_type": "execute_result"
    }
   ],
   "source": [
    "data = {'Name':['Ali','Abduallah',np.nan,'Sami',np.nan,'Amal',np.nan,np.nan,'Amjad','Shahed'],\n",
    "      'Gender':['Male','Male','Male','Male','Male','Female','Female','Female','Female',np.nan],\n",
    "      'Income':[5000, 7000, np.nan, 7000, 3000, np.nan, 7000, 3000, 7000, 1000],\n",
    "       'Work':[np.nan,'Remote',np.nan,'On_site','Remote','On_site','Remote',np.nan,0,0]}\n",
    "\n",
    "data = pd.DataFrame(data)\n",
    "data"
   ]
  },
  {
   "cell_type": "markdown",
   "id": "nonprofit-liberal",
   "metadata": {},
   "source": [
    "### Imputation"
   ]
  },
  {
   "cell_type": "code",
   "execution_count": 12,
   "id": "endangered-reception",
   "metadata": {
    "scrolled": false
   },
   "outputs": [
    {
     "name": "stderr",
     "output_type": "stream",
     "text": [
      "b'Skipping line 22: expected 6 fields, saw 7\\nSkipping line 40: expected 6 fields, saw 7\\nSkipping line 62: expected 6 fields, saw 7\\n'\n"
     ]
    },
    {
     "data": {
      "text/html": [
       "<div>\n",
       "<style scoped>\n",
       "    .dataframe tbody tr th:only-of-type {\n",
       "        vertical-align: middle;\n",
       "    }\n",
       "\n",
       "    .dataframe tbody tr th {\n",
       "        vertical-align: top;\n",
       "    }\n",
       "\n",
       "    .dataframe thead th {\n",
       "        text-align: right;\n",
       "    }\n",
       "</style>\n",
       "<table border=\"1\" class=\"dataframe\">\n",
       "  <thead>\n",
       "    <tr style=\"text-align: right;\">\n",
       "      <th></th>\n",
       "      <th>Prefix</th>\n",
       "      <th>Assignment</th>\n",
       "      <th>Tutorial</th>\n",
       "      <th>Midterm</th>\n",
       "      <th>TakeHome</th>\n",
       "      <th>Final</th>\n",
       "    </tr>\n",
       "  </thead>\n",
       "  <tbody>\n",
       "    <tr>\n",
       "      <th>0</th>\n",
       "      <td>5</td>\n",
       "      <td>57.14</td>\n",
       "      <td>34.09</td>\n",
       "      <td>64.38</td>\n",
       "      <td>51.48</td>\n",
       "      <td>52.50</td>\n",
       "    </tr>\n",
       "    <tr>\n",
       "      <th>1</th>\n",
       "      <td>8</td>\n",
       "      <td>95.05</td>\n",
       "      <td>105.49</td>\n",
       "      <td>67.50</td>\n",
       "      <td>99.07</td>\n",
       "      <td>68.33</td>\n",
       "    </tr>\n",
       "    <tr>\n",
       "      <th>2</th>\n",
       "      <td>8</td>\n",
       "      <td>83.70</td>\n",
       "      <td>83.17</td>\n",
       "      <td>30.00</td>\n",
       "      <td>63.15</td>\n",
       "      <td>48.89</td>\n",
       "    </tr>\n",
       "    <tr>\n",
       "      <th>3</th>\n",
       "      <td>7</td>\n",
       "      <td>81.22</td>\n",
       "      <td>96.06</td>\n",
       "      <td>49.38</td>\n",
       "      <td>105.93</td>\n",
       "      <td>80.56</td>\n",
       "    </tr>\n",
       "    <tr>\n",
       "      <th>4</th>\n",
       "      <td>8</td>\n",
       "      <td>91.32</td>\n",
       "      <td>93.64</td>\n",
       "      <td>95.00</td>\n",
       "      <td>107.41</td>\n",
       "      <td>73.89</td>\n",
       "    </tr>\n",
       "    <tr>\n",
       "      <th>...</th>\n",
       "      <td>...</td>\n",
       "      <td>...</td>\n",
       "      <td>...</td>\n",
       "      <td>...</td>\n",
       "      <td>...</td>\n",
       "      <td>...</td>\n",
       "    </tr>\n",
       "    <tr>\n",
       "      <th>91</th>\n",
       "      <td>8</td>\n",
       "      <td>96.73</td>\n",
       "      <td>103.71</td>\n",
       "      <td>45.00</td>\n",
       "      <td>93.52</td>\n",
       "      <td>61.94</td>\n",
       "    </tr>\n",
       "    <tr>\n",
       "      <th>92</th>\n",
       "      <td>7</td>\n",
       "      <td>85.34</td>\n",
       "      <td>80.54</td>\n",
       "      <td>41.25</td>\n",
       "      <td>93.70</td>\n",
       "      <td>39.72</td>\n",
       "    </tr>\n",
       "    <tr>\n",
       "      <th>93</th>\n",
       "      <td>8</td>\n",
       "      <td>89.94</td>\n",
       "      <td>102.77</td>\n",
       "      <td>87.50</td>\n",
       "      <td>90.74</td>\n",
       "      <td>87.78</td>\n",
       "    </tr>\n",
       "    <tr>\n",
       "      <th>94</th>\n",
       "      <td>7</td>\n",
       "      <td>95.60</td>\n",
       "      <td>76.13</td>\n",
       "      <td>66.25</td>\n",
       "      <td>99.81</td>\n",
       "      <td>85.56</td>\n",
       "    </tr>\n",
       "    <tr>\n",
       "      <th>95</th>\n",
       "      <td>8</td>\n",
       "      <td>63.40</td>\n",
       "      <td>97.37</td>\n",
       "      <td>73.12</td>\n",
       "      <td>72.78</td>\n",
       "      <td>77.22</td>\n",
       "    </tr>\n",
       "  </tbody>\n",
       "</table>\n",
       "<p>96 rows × 6 columns</p>\n",
       "</div>"
      ],
      "text/plain": [
       "    Prefix  Assignment  Tutorial  Midterm  TakeHome  Final\n",
       "0        5       57.14     34.09    64.38     51.48  52.50\n",
       "1        8       95.05    105.49    67.50     99.07  68.33\n",
       "2        8       83.70     83.17    30.00     63.15  48.89\n",
       "3        7       81.22     96.06    49.38    105.93  80.56\n",
       "4        8       91.32     93.64    95.00    107.41  73.89\n",
       "..     ...         ...       ...      ...       ...    ...\n",
       "91       8       96.73    103.71    45.00     93.52  61.94\n",
       "92       7       85.34     80.54    41.25     93.70  39.72\n",
       "93       8       89.94    102.77    87.50     90.74  87.78\n",
       "94       7       95.60     76.13    66.25     99.81  85.56\n",
       "95       8       63.40     97.37    73.12     72.78  77.22\n",
       "\n",
       "[96 rows x 6 columns]"
      ]
     },
     "execution_count": 12,
     "metadata": {},
     "output_type": "execute_result"
    }
   ],
   "source": [
    "grades = pd.read_csv('class-grades.csv', header=0, sep=\",\", error_bad_lines=False)\n",
    "grades"
   ]
  },
  {
   "cell_type": "code",
   "execution_count": 13,
   "id": "graduate-swaziland",
   "metadata": {},
   "outputs": [
    {
     "data": {
      "text/plain": [
       "Prefix        0\n",
       "Assignment    0\n",
       "Tutorial      0\n",
       "Midterm       0\n",
       "TakeHome      1\n",
       "Final         0\n",
       "dtype: int64"
      ]
     },
     "execution_count": 13,
     "metadata": {},
     "output_type": "execute_result"
    }
   ],
   "source": [
    "grades.isnull().sum()"
   ]
  },
  {
   "cell_type": "code",
   "execution_count": 14,
   "id": "mechanical-victory",
   "metadata": {},
   "outputs": [
    {
     "name": "stderr",
     "output_type": "stream",
     "text": [
      "/opt/anaconda3/lib/python3.7/site-packages/ipykernel_launcher.py:2: FutureWarning: The pandas.np module is deprecated and will be removed from pandas in a future version. Import numpy directly instead\n",
      "  \n"
     ]
    }
   ],
   "source": [
    "for col in grades.columns:\n",
    "    grades.loc[grades.sample(frac=0.1).index, col] = pd.np.nan"
   ]
  },
  {
   "cell_type": "code",
   "execution_count": 15,
   "id": "developing-motel",
   "metadata": {},
   "outputs": [
    {
     "data": {
      "text/plain": [
       "Prefix        10\n",
       "Assignment    10\n",
       "Tutorial      10\n",
       "Midterm       10\n",
       "TakeHome      11\n",
       "Final         10\n",
       "dtype: int64"
      ]
     },
     "execution_count": 15,
     "metadata": {},
     "output_type": "execute_result"
    }
   ],
   "source": [
    "grades.isnull().sum()"
   ]
  },
  {
   "cell_type": "code",
   "execution_count": 16,
   "id": "stuck-organic",
   "metadata": {
    "scrolled": true
   },
   "outputs": [
    {
     "data": {
      "image/png": "[encoded data removed]",
      "text/plain": [
       "<Figure size 432x288 with 1 Axes>"
      ]
     },
     "metadata": {
      "needs_background": "light"
     },
     "output_type": "display_data"
    }
   ],
   "source": [
    "grades['Prefix'].plot(kind=\"hist\", title=\"Histogram of Prefix\");"
   ]
  },
  {
   "cell_type": "code",
   "execution_count": 17,
   "id": "cardiac-international",
   "metadata": {},
   "outputs": [
    {
     "data": {
      "text/plain": [
       "0.6533515731874154"
      ]
     },
     "execution_count": 17,
     "metadata": {},
     "output_type": "execute_result"
    }
   ],
   "source": [
    "grades['Prefix'].var()"
   ]
  },
  {
   "cell_type": "code",
   "execution_count": 18,
   "id": "joined-monster",
   "metadata": {},
   "outputs": [
    {
     "data": {
      "text/plain": [
       "7"
      ]
     },
     "execution_count": 18,
     "metadata": {},
     "output_type": "execute_result"
    }
   ],
   "source": [
    "prefix_mean = round(grades['Prefix'].mean())\n",
    "prefix_mean"
   ]
  },
  {
   "cell_type": "code",
   "execution_count": 19,
   "id": "proved-poster",
   "metadata": {},
   "outputs": [
    {
     "data": {
      "text/plain": [
       "0"
      ]
     },
     "execution_count": 19,
     "metadata": {},
     "output_type": "execute_result"
    }
   ],
   "source": [
    "grades['Prefix'] = grades['Prefix'].fillna(prefix_mean)\n",
    "grades['Prefix'].isnull().sum()"
   ]
  },
  {
   "cell_type": "code",
   "execution_count": 20,
   "id": "endless-stevens",
   "metadata": {},
   "outputs": [
    {
     "data": {
      "image/png": "[encoded data removed]",
      "text/plain": [
       "<Figure size 432x288 with 1 Axes>"
      ]
     },
     "metadata": {
      "needs_background": "light"
     },
     "output_type": "display_data"
    }
   ],
   "source": [
    "grades['Prefix'].plot(kind=\"hist\", title=\"Histogram of Prefix\");"
   ]
  },
  {
   "cell_type": "code",
   "execution_count": 21,
   "id": "stone-partnership",
   "metadata": {},
   "outputs": [
    {
     "data": {
      "text/plain": [
       "0.5960526315789474"
      ]
     },
     "execution_count": 21,
     "metadata": {},
     "output_type": "execute_result"
    }
   ],
   "source": [
    "grades['Prefix'].var()"
   ]
  },
  {
   "cell_type": "code",
   "execution_count": 22,
   "id": "polyphonic-omega",
   "metadata": {},
   "outputs": [
    {
     "data": {
      "text/plain": [
       "Prefix         0\n",
       "Assignment    10\n",
       "Tutorial      10\n",
       "Midterm       10\n",
       "TakeHome      11\n",
       "Final         10\n",
       "dtype: int64"
      ]
     },
     "execution_count": 22,
     "metadata": {},
     "output_type": "execute_result"
    }
   ],
   "source": [
    "grades.isnull().sum()"
   ]
  },
  {
   "cell_type": "code",
   "execution_count": 23,
   "id": "hollywood-fisher",
   "metadata": {},
   "outputs": [
    {
     "data": {
      "image/png": "[encoded data removed]",
      "text/plain": [
       "<Figure size 432x288 with 1 Axes>"
      ]
     },
     "metadata": {
      "needs_background": "light"
     },
     "output_type": "display_data"
    }
   ],
   "source": [
    "grades['Assignment'].plot(kind=\"hist\", title=\"Histogram of Assignment\");"
   ]
  },
  {
   "cell_type": "code",
   "execution_count": 24,
   "id": "functioning-college",
   "metadata": {},
   "outputs": [
    {
     "data": {
      "text/plain": [
       "152.66969922024612"
      ]
     },
     "execution_count": 24,
     "metadata": {},
     "output_type": "execute_result"
    }
   ],
   "source": [
    "grades['Assignment'].var()"
   ]
  },
  {
   "cell_type": "code",
   "execution_count": 25,
   "id": "banned-breakfast",
   "metadata": {},
   "outputs": [
    {
     "data": {
      "text/plain": [
       "90"
      ]
     },
     "execution_count": 25,
     "metadata": {},
     "output_type": "execute_result"
    }
   ],
   "source": [
    "assignment_median = round(grades['Assignment'].median())\n",
    "assignment_median"
   ]
  },
  {
   "cell_type": "code",
   "execution_count": 26,
   "id": "marine-sensitivity",
   "metadata": {},
   "outputs": [
    {
     "data": {
      "text/plain": [
       "0"
      ]
     },
     "execution_count": 26,
     "metadata": {},
     "output_type": "execute_result"
    }
   ],
   "source": [
    "grades['Assignment'] = grades['Assignment'].fillna(assignment_median)\n",
    "grades['Assignment'].isnull().sum()"
   ]
  },
  {
   "cell_type": "code",
   "execution_count": 27,
   "id": "monetary-split",
   "metadata": {},
   "outputs": [
    {
     "data": {
      "image/png": "[encoded data removed]",
      "text/plain": [
       "<Figure size 432x288 with 1 Axes>"
      ]
     },
     "metadata": {
      "needs_background": "light"
     },
     "output_type": "display_data"
    }
   ],
   "source": [
    "grades['Assignment'].plot(kind=\"hist\",title=\"Histogram of Assignment)\");"
   ]
  },
  {
   "cell_type": "code",
   "execution_count": 28,
   "id": "outside-punch",
   "metadata": {},
   "outputs": [
    {
     "data": {
      "text/plain": [
       "138.13361077850882"
      ]
     },
     "execution_count": 28,
     "metadata": {},
     "output_type": "execute_result"
    }
   ],
   "source": [
    "grades['Assignment'].var()"
   ]
  },
  {
   "cell_type": "code",
   "execution_count": 29,
   "id": "alien-hurricane",
   "metadata": {},
   "outputs": [
    {
     "data": {
      "text/plain": [
       "90"
      ]
     },
     "execution_count": 29,
     "metadata": {},
     "output_type": "execute_result"
    }
   ],
   "source": [
    "round(grades['Assignment'].median())"
   ]
  },
  {
   "cell_type": "markdown",
   "id": "criminal-kidney",
   "metadata": {},
   "source": [
    "### Forward Filling "
   ]
  },
  {
   "cell_type": "code",
   "execution_count": 30,
   "id": "sharing-courtesy",
   "metadata": {},
   "outputs": [
    {
     "data": {
      "text/plain": [
       "Prefix         0\n",
       "Assignment     0\n",
       "Tutorial      10\n",
       "Midterm       10\n",
       "TakeHome      11\n",
       "Final         10\n",
       "dtype: int64"
      ]
     },
     "execution_count": 30,
     "metadata": {},
     "output_type": "execute_result"
    }
   ],
   "source": [
    "grades.isnull().sum()"
   ]
  },
  {
   "cell_type": "code",
   "execution_count": 31,
   "id": "changing-entertainment",
   "metadata": {},
   "outputs": [],
   "source": [
    "grades['Tutorial'] = grades['Tutorial'].fillna(method=\"ffill\")"
   ]
  },
  {
   "cell_type": "code",
   "execution_count": 32,
   "id": "anticipated-restoration",
   "metadata": {},
   "outputs": [
    {
     "data": {
      "text/plain": [
       "Prefix         0\n",
       "Assignment     0\n",
       "Tutorial       0\n",
       "Midterm       10\n",
       "TakeHome      11\n",
       "Final         10\n",
       "dtype: int64"
      ]
     },
     "execution_count": 32,
     "metadata": {},
     "output_type": "execute_result"
    }
   ],
   "source": [
    "grades.isnull().sum()"
   ]
  },
  {
   "cell_type": "code",
   "execution_count": 33,
   "id": "federal-principal",
   "metadata": {},
   "outputs": [
    {
     "data": {
      "text/plain": [
       "0      34.09\n",
       "1     105.49\n",
       "2      83.17\n",
       "3      96.06\n",
       "4      96.06\n",
       "       ...  \n",
       "91    103.71\n",
       "92     80.54\n",
       "93     80.54\n",
       "94     76.13\n",
       "95     97.37\n",
       "Name: Tutorial, Length: 96, dtype: float64"
      ]
     },
     "execution_count": 33,
     "metadata": {},
     "output_type": "execute_result"
    }
   ],
   "source": [
    "grades['Tutorial']"
   ]
  },
  {
   "cell_type": "code",
   "execution_count": 34,
   "id": "sublime-swing",
   "metadata": {},
   "outputs": [
    {
     "data": {
      "text/plain": [
       "0      51.48\n",
       "1        NaN\n",
       "2      63.15\n",
       "3     105.93\n",
       "4     107.41\n",
       "       ...  \n",
       "91     93.52\n",
       "92     93.70\n",
       "93       NaN\n",
       "94     99.81\n",
       "95     72.78\n",
       "Name: TakeHome, Length: 96, dtype: float64"
      ]
     },
     "execution_count": 34,
     "metadata": {},
     "output_type": "execute_result"
    }
   ],
   "source": [
    "grades['TakeHome']"
   ]
  },
  {
   "cell_type": "code",
   "execution_count": 35,
   "id": "valued-industry",
   "metadata": {},
   "outputs": [
    {
     "data": {
      "image/png": "[encoded data removed]",
      "text/plain": [
       "<Figure size 432x288 with 1 Axes>"
      ]
     },
     "metadata": {
      "needs_background": "light"
     },
     "output_type": "display_data"
    }
   ],
   "source": [
    "grades['TakeHome'].plot(kind=\"hist\", bins=20, title=\"Histogram of Take Home\");"
   ]
  },
  {
   "cell_type": "code",
   "execution_count": 36,
   "id": "hydraulic-investing",
   "metadata": {},
   "outputs": [],
   "source": [
    "grades['TakeHome'].fillna(method=\"ffill\", inplace =True)"
   ]
  },
  {
   "cell_type": "code",
   "execution_count": 37,
   "id": "cleared-spelling",
   "metadata": {},
   "outputs": [
    {
     "data": {
      "text/plain": [
       "Prefix         0\n",
       "Assignment     0\n",
       "Tutorial       0\n",
       "Midterm       10\n",
       "TakeHome       0\n",
       "Final         10\n",
       "dtype: int64"
      ]
     },
     "execution_count": 37,
     "metadata": {},
     "output_type": "execute_result"
    }
   ],
   "source": [
    "grades.isnull().sum()"
   ]
  },
  {
   "cell_type": "code",
   "execution_count": 38,
   "id": "senior-hybrid",
   "metadata": {},
   "outputs": [
    {
     "data": {
      "image/png": "[encoded data removed]",
      "text/plain": [
       "<Figure size 432x288 with 1 Axes>"
      ]
     },
     "metadata": {
      "needs_background": "light"
     },
     "output_type": "display_data"
    }
   ],
   "source": [
    "grades['TakeHome'].plot(kind=\"hist\", bins=20, title=\"Histogram of Take Home\");"
   ]
  },
  {
   "cell_type": "markdown",
   "id": "affecting-jamaica",
   "metadata": {},
   "source": [
    "### Backward Filling"
   ]
  },
  {
   "cell_type": "code",
   "execution_count": 39,
   "id": "based-wealth",
   "metadata": {},
   "outputs": [
    {
     "data": {
      "image/png": "[encoded data removed]",
      "text/plain": [
       "<Figure size 432x288 with 1 Axes>"
      ]
     },
     "metadata": {
      "needs_background": "light"
     },
     "output_type": "display_data"
    }
   ],
   "source": [
    "grades['Tutorial'].plot(kind=\"hist\", bins=20, title=\"Histogram of Tutorial\");"
   ]
  },
  {
   "cell_type": "code",
   "execution_count": 40,
   "id": "bizarre-governor",
   "metadata": {},
   "outputs": [],
   "source": [
    "grades['Tutorial'].fillna(method=\"bfill\", inplace =True)"
   ]
  },
  {
   "cell_type": "code",
   "execution_count": 41,
   "id": "technical-family",
   "metadata": {},
   "outputs": [
    {
     "data": {
      "text/plain": [
       "Prefix         0\n",
       "Assignment     0\n",
       "Tutorial       0\n",
       "Midterm       10\n",
       "TakeHome       0\n",
       "Final         10\n",
       "dtype: int64"
      ]
     },
     "execution_count": 41,
     "metadata": {},
     "output_type": "execute_result"
    }
   ],
   "source": [
    "grades.isnull().sum()"
   ]
  },
  {
   "cell_type": "code",
   "execution_count": 42,
   "id": "forty-oakland",
   "metadata": {
    "scrolled": true
   },
   "outputs": [
    {
     "data": {
      "image/png": "[encoded data removed]",
      "text/plain": [
       "<Figure size 432x288 with 1 Axes>"
      ]
     },
     "metadata": {
      "needs_background": "light"
     },
     "output_type": "display_data"
    }
   ],
   "source": [
    "grades['Tutorial'].plot(kind=\"hist\", title=\"Histogram of Tutorial\");"
   ]
  },
  {
   "cell_type": "markdown",
   "id": "civil-miami",
   "metadata": {},
   "source": [
    "### Drop Null Values"
   ]
  },
  {
   "cell_type": "code",
   "execution_count": 43,
   "id": "ready-structure",
   "metadata": {},
   "outputs": [
    {
     "data": {
      "text/plain": [
       "Prefix         0\n",
       "Assignment     0\n",
       "Tutorial       0\n",
       "Midterm       10\n",
       "TakeHome       0\n",
       "Final         10\n",
       "dtype: int64"
      ]
     },
     "execution_count": 43,
     "metadata": {},
     "output_type": "execute_result"
    }
   ],
   "source": [
    "grades.isnull().sum()"
   ]
  },
  {
   "cell_type": "code",
   "execution_count": 44,
   "id": "unavailable-slope",
   "metadata": {},
   "outputs": [],
   "source": [
    "grades.dropna(axis = 'index', how = 'any', subset = ['Midterm'], inplace=True)"
   ]
  },
  {
   "cell_type": "code",
   "execution_count": 45,
   "id": "proud-glance",
   "metadata": {
    "scrolled": true
   },
   "outputs": [
    {
     "data": {
      "text/plain": [
       "Prefix         0\n",
       "Assignment     0\n",
       "Tutorial       0\n",
       "Midterm        0\n",
       "TakeHome       0\n",
       "Final         10\n",
       "dtype: int64"
      ]
     },
     "execution_count": 45,
     "metadata": {},
     "output_type": "execute_result"
    }
   ],
   "source": [
    "grades.isnull().sum()"
   ]
  }
 ],
 "metadata": {
  "kernelspec": {
   "display_name": "Python 3",
   "language": "python",
   "name": "python3"
  },
  "language_info": {
   "codemirror_mode": {
    "name": "ipython",
    "version": 3
   },
   "file_extension": ".py",
   "mimetype": "text/x-python",
   "name": "python",
   "nbconvert_exporter": "python",
   "pygments_lexer": "ipython3",
   "version": "3.7.9"
  }
 },
 "nbformat": 4,
 "nbformat_minor": 5
}
