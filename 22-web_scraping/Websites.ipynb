{
 "cells": [
  {
   "cell_type": "markdown",
   "id": "worst-sally",
   "metadata": {},
   "source": [
    "### Rotten Tomatoes Website"
   ]
  },
  {
   "cell_type": "code",
   "execution_count": 1,
   "id": "complimentary-harvard",
   "metadata": {},
   "outputs": [],
   "source": [
    "import requests\n",
    "from bs4 import BeautifulSoup"
   ]
  },
  {
   "cell_type": "code",
   "execution_count": 2,
   "id": "yellow-matter",
   "metadata": {},
   "outputs": [],
   "source": [
    "url = 'https://editorial.rottentomatoes.com/guide/best-action-adventure-movies-2021/'\n",
    "response = requests.get(url)"
   ]
  },
  {
   "cell_type": "code",
   "execution_count": 3,
   "id": "decreased-bosnia",
   "metadata": {},
   "outputs": [],
   "source": [
    "soup = BeautifulSoup(response.content, 'lxml')"
   ]
  },
  {
   "cell_type": "code",
   "execution_count": 4,
   "id": "acoustic-antibody",
   "metadata": {},
   "outputs": [
    {
     "data": {
      "text/plain": [
       "[<div class=\"row countdown-item\" id=\"row-index-1\" style=\"padding-left: 10px;\">\n",
       " <div class=\"countdown-index-resposive\">#1</div>\n",
       " <div class=\"col-sm-6 col-full-xs\">\n",
       " <a class=\"article_movie_poster\" href=\"https://www.rottentomatoes.com/m/no_time_to_die_2021\">\n",
       " <div><img alt=\"\" class=\"article_poster\" sborder=\"\" src=\"https://resizing.flixster.com/bBtaayW4M1spohBn5lNLlqBsDG4=/fit-in/180x240/v2/https://resizing.flixster.com/OD8fs5JdLdImDe_OjMH1NTxgf7w=/ems.cHJkLWVtcy1hc3NldHMvbW92aWVzLzFkNTZlZTE1LTRiYjMtNDA3MC1iMGE3LTdhOWZmOGNlZWJjOS5qcGc=\" style=\"border-color: #EEEEEE; border-style: solid; border-width: 1px;\"/></div>\n",
       " </a>\n",
       " </div>\n",
       " <div class=\"col-sm-18 col-full-xs countdown-item-content\">\n",
       " <div class=\"row countdown-item-title-bar\">\n",
       " <div class=\"col-sm-20 col-full-xs\" style=\"height: 100%;\">\n",
       " <div class=\"article_movie_title\" style=\"float: left;\">\n",
       " <div><h2><a href=\"https://www.rottentomatoes.com/m/no_time_to_die_2021\">No Time to Die</a> <span class=\"subtle start-year\">(2021)</span> <span class=\"icon big certified\" title=\"Certified Fresh\"></span> <span class=\"tMeterScore\">83%</span></h2></div>\n",
       " </div>\n",
       " </div>\n",
       " <div class=\"col-sm-4 col-full-xs\" style=\"height: 100%;\">\n",
       " <div class=\"countdown-index\">#1</div>\n",
       " </div>\n",
       " </div>\n",
       " <div class=\"row countdown-item-details\">\n",
       " <div class=\"col-sm-24\">\n",
       " <div class=\"info countdown-adjusted-score\"><span class=\"descriptor\">Adjusted Score: </span>102530% <span class=\"glyphicon glyphicon-question-sign\" data-html=\"true\" data-original-title=\"The Adjusted Score comes from a weighted formula (Bayesian) that we use that accounts for variation in the number of reviews per movie.\" data-placement=\"top\" data-toggle=\"tooltip\" rel=\"tooltip\" title=\"\"></span></div>\n",
       " <div class=\"info critics-consensus\"><span class=\"descriptor\">Critics Consensus:</span> It isn't the sleekest or most daring 007 adventure, but <em>No Time to Die</em> concludes Daniel Craig's franchise tenure in satisfying style.</div>\n",
       " <div class=\"info synopsis\"><span class=\"descriptor\">Synopsis:</span> In No Time To Die, Bond has left active service and is enjoying a tranquil life in Jamaica. His peace...<a class=\"\" data-pageheader=\"\" href=\"https://www.rottentomatoes.com/m/no_time_to_die_2021\" target=\"_top\"> [More]</a></div>\n",
       " <div class=\"info cast\">\n",
       " <span class=\"descriptor\">Starring:</span> <a class=\"\" href=\"//www.rottentomatoes.com/celebrity/daniel_craig\">Daniel Craig</a>, <a class=\"\" href=\"//www.rottentomatoes.com/celebrity/rami_malek\">Rami Malek</a>, <a class=\"\" href=\"//www.rottentomatoes.com/celebrity/lea_seydoux\">Léa Seydoux</a>, <a class=\"\" href=\"//www.rottentomatoes.com/celebrity/lashana_lynch\">Lashana Lynch</a></div>\n",
       " <div class=\"info director\">\n",
       " <span class=\"descriptor\">Directed By:</span> <a class=\"\" href=\"//www.rottentomatoes.com/celebrity/cary_joji_fukunaga\">Cary Joji Fukunaga</a></div>\n",
       " </div>\n",
       " </div>\n",
       " </div>\n",
       " </div>,\n",
       " <div class=\"row countdown-item\" id=\"row-index-2\" style=\"padding-left: 10px;\">\n",
       " <div class=\"countdown-index-resposive\">#2</div>\n",
       " <div class=\"col-sm-6 col-full-xs\">\n",
       " <a class=\"article_movie_poster\" href=\"https://www.rottentomatoes.com/m/old_henry\">\n",
       " <div><img alt=\"\" class=\"article_poster\" sborder=\"\" src=\"https://resizing.flixster.com/aBq_s8KqxwqjuUMLBcpEm17C4Ig=/fit-in/180x240/v2/https://resizing.flixster.com/987GAqgw6EJMGkcEb8JtaxV_hD8=/ems.cHJkLWVtcy1hc3NldHMvbW92aWVzL2NjNzE3NjVjLTQyYjYtNDg4OS04MWExLWRiYjk4YjM5NGY5Yy5qcGc=\" style=\"border-color: #EEEEEE; border-style: solid; border-width: 1px;\"/></div>\n",
       " </a>\n",
       " </div>\n",
       " <div class=\"col-sm-18 col-full-xs countdown-item-content\">\n",
       " <div class=\"row countdown-item-title-bar\">\n",
       " <div class=\"col-sm-20 col-full-xs\" style=\"height: 100%;\">\n",
       " <div class=\"article_movie_title\" style=\"float: left;\">\n",
       " <div><h2><a href=\"https://www.rottentomatoes.com/m/old_henry\">Old Henry</a> <span class=\"subtle start-year\">(2021)</span> <span class=\"icon big certified\" title=\"Certified Fresh\"></span> <span class=\"tMeterScore\">94%</span></h2></div>\n",
       " </div>\n",
       " </div>\n",
       " <div class=\"col-sm-4 col-full-xs\" style=\"height: 100%;\">\n",
       " <div class=\"countdown-index\">#2</div>\n",
       " </div>\n",
       " </div>\n",
       " <div class=\"row countdown-item-details\">\n",
       " <div class=\"col-sm-24\">\n",
       " <div class=\"info countdown-adjusted-score\"><span class=\"descriptor\">Adjusted Score: </span>96318% <span class=\"glyphicon glyphicon-question-sign\" data-html=\"true\" data-original-title=\"The Adjusted Score comes from a weighted formula (Bayesian) that we use that accounts for variation in the number of reviews per movie.\" data-placement=\"top\" data-toggle=\"tooltip\" rel=\"tooltip\" title=\"\"></span></div>\n",
       " <div class=\"info critics-consensus\"><span class=\"descriptor\">Critics Consensus:</span> Led by a reliably solid performance from Tim Blake Nelson, <em>Old Henry</em> serves up a supple cut of vintage western rawhide.</div>\n",
       " <div class=\"info synopsis\"><span class=\"descriptor\">Synopsis:</span> Old Henry is an action-Western about a widowed farmer and his son who warily take in a mysterious, injured man...<a class=\"\" data-pageheader=\"\" href=\"https://www.rottentomatoes.com/m/old_henry\" target=\"_top\"> [More]</a></div>\n",
       " <div class=\"info cast\">\n",
       " <span class=\"descriptor\">Starring:</span> <a class=\"\" href=\"//www.rottentomatoes.com/celebrity/tim_blake_nelson\">Tim Blake Nelson</a>, <a class=\"\" href=\"//www.rottentomatoes.com/celebrity/scott_haze\">Scott Haze</a>, <a class=\"\" href=\"//www.rottentomatoes.com/celebrity/gavin_lewis_2\">Gavin Lewis</a>, <a class=\"\" href=\"//www.rottentomatoes.com/celebrity/trace-adkins\">Trace Adkins</a></div>\n",
       " <div class=\"info director\">\n",
       " <span class=\"descriptor\">Directed By:</span> <a class=\"\" href=\"//www.rottentomatoes.com/celebrity/potsy_ponciroli_2\">Potsy Ponciroli</a></div>\n",
       " </div>\n",
       " </div>\n",
       " </div>\n",
       " </div>,\n",
       " <div class=\"row countdown-item\" id=\"row-index-3\" style=\"padding-left: 10px;\">\n",
       " <div class=\"countdown-index-resposive\">#3</div>\n",
       " <div class=\"col-sm-6 col-full-xs\">\n",
       " <a class=\"article_movie_poster\" href=\"https://www.rottentomatoes.com/m/the_harder_they_fall\">\n",
       " <div><img alt=\"\" class=\"article_poster\" sborder=\"\" src=\"https://resizing.flixster.com/IuD-Xd1k-fn5n8B-GKrnlJcjXks=/fit-in/180x240/v2/https://resizing.flixster.com/O-JkRIKIk7nd9zSP2G-2uDpgi0A=/ems.cHJkLWVtcy1hc3NldHMvbW92aWVzLzQ0MTcyZTUyLWU0YmUtNDYyNi04MDllLTg1N2RhNGMxMDU0ZC5qcGc=\" style=\"border-color: #EEEEEE; border-style: solid; border-width: 1px;\"/></div>\n",
       " </a>\n",
       " </div>\n",
       " <div class=\"col-sm-18 col-full-xs countdown-item-content\">\n",
       " <div class=\"row countdown-item-title-bar\">\n",
       " <div class=\"col-sm-20 col-full-xs\" style=\"height: 100%;\">\n",
       " <div class=\"article_movie_title\" style=\"float: left;\">\n",
       " <div><h2><a href=\"https://www.rottentomatoes.com/m/the_harder_they_fall\">The Harder They Fall</a> <span class=\"subtle start-year\">(2021)</span> <span class=\"icon big certified\" title=\"Certified Fresh\"></span> <span class=\"tMeterScore\">88%</span></h2></div>\n",
       " </div>\n",
       " </div>\n",
       " <div class=\"col-sm-4 col-full-xs\" style=\"height: 100%;\">\n",
       " <div class=\"countdown-index\">#3</div>\n",
       " </div>\n",
       " </div>\n",
       " <div class=\"row countdown-item-details\">\n",
       " <div class=\"col-sm-24\">\n",
       " <div class=\"info countdown-adjusted-score\"><span class=\"descriptor\">Adjusted Score: </span>96431% <span class=\"glyphicon glyphicon-question-sign\" data-html=\"true\" data-original-title=\"The Adjusted Score comes from a weighted formula (Bayesian) that we use that accounts for variation in the number of reviews per movie.\" data-placement=\"top\" data-toggle=\"tooltip\" rel=\"tooltip\" title=\"\"></span></div>\n",
       " <div class=\"info critics-consensus\"><span class=\"descriptor\">Critics Consensus:</span> It isn't as bold and fearless as its characters, but <em>The Harder They Fall</em> fills its well-worn template with style, energy, and a fantastic cast.</div>\n",
       " <div class=\"info synopsis\"><span class=\"descriptor\">Synopsis:</span> When outlaw Nat Love (Jonathan Majors) discovers that his enemy Rufus Buck (Idris Elba) is being released from prison he...<a class=\"\" data-pageheader=\"\" href=\"https://www.rottentomatoes.com/m/the_harder_they_fall\" target=\"_top\"> [More]</a></div>\n",
       " <div class=\"info cast\">\n",
       " <span class=\"descriptor\">Starring:</span> <a class=\"\" href=\"//www.rottentomatoes.com/celebrity/jonathan_majors\">Jonathan Majors</a>, <a class=\"\" href=\"//www.rottentomatoes.com/celebrity/zazie_beetz\">Zazie Beetz</a>, <a class=\"\" href=\"//www.rottentomatoes.com/celebrity/delroy_lindo\">Delroy Lindo</a>, <a class=\"\" href=\"//www.rottentomatoes.com/celebrity/lakeith_stanfield\">LaKeith Stanfield</a></div>\n",
       " <div class=\"info director\">\n",
       " <span class=\"descriptor\">Directed By:</span> <a class=\"\" href=\"//www.rottentomatoes.com/celebrity/jeymes_samuel\">Jeymes Samuel</a></div>\n",
       " </div>\n",
       " </div>\n",
       " </div>\n",
       " </div>,\n",
       " <div class=\"row countdown-item\" id=\"row-index-4\" style=\"padding-left: 10px;\">\n",
       " <div class=\"countdown-index-resposive\">#4</div>\n",
       " <div class=\"col-sm-6 col-full-xs\">\n",
       " <a class=\"article_movie_poster\" href=\"https://www.rottentomatoes.com/m/high_ground_2021\">\n",
       " <div><img alt=\"\" class=\"article_poster\" sborder=\"\" src=\"https://resizing.flixster.com/onmi4vgXN1G5qTQVgZIIVmSUsJU=/fit-in/180x240/v2/https://resizing.flixster.com/buXLNxU-CawbAV2p9Y2vvvwtYU0=/ems.cHJkLWVtcy1hc3NldHMvbW92aWVzLzRjMWNlYTI5LTdmMGUtNDViZS1hZjZkLWY4Y2NiMWYxMTBjMy5qcGc=\" style=\"border-color: #EEEEEE; border-style: solid; border-width: 1px;\"/></div>\n",
       " </a>\n",
       " </div>\n",
       " <div class=\"col-sm-18 col-full-xs countdown-item-content\">\n",
       " <div class=\"row countdown-item-title-bar\">\n",
       " <div class=\"col-sm-20 col-full-xs\" style=\"height: 100%;\">\n",
       " <div class=\"article_movie_title\" style=\"float: left;\">\n",
       " <div><h2><a href=\"https://www.rottentomatoes.com/m/high_ground_2021\">High Ground</a> <span class=\"subtle start-year\">(2020)</span> <span class=\"icon big certified\" title=\"Certified Fresh\"></span> <span class=\"tMeterScore\">90%</span></h2></div>\n",
       " </div>\n",
       " </div>\n",
       " <div class=\"col-sm-4 col-full-xs\" style=\"height: 100%;\">\n",
       " <div class=\"countdown-index\">#4</div>\n",
       " </div>\n",
       " </div>\n",
       " <div class=\"row countdown-item-details\">\n",
       " <div class=\"col-sm-24\">\n",
       " <div class=\"info countdown-adjusted-score\"><span class=\"descriptor\">Adjusted Score: </span>90971% <span class=\"glyphicon glyphicon-question-sign\" data-html=\"true\" data-original-title=\"The Adjusted Score comes from a weighted formula (Bayesian) that we use that accounts for variation in the number of reviews per movie.\" data-placement=\"top\" data-toggle=\"tooltip\" rel=\"tooltip\" title=\"\"></span></div>\n",
       " <div class=\"info critics-consensus\"><span class=\"descriptor\">Critics Consensus:</span> A gripping action story as well as sobering commentary on colonialism, <em>High Ground</em> is a vividly engrossing attempt to grapple with Australian history.</div>\n",
       " <div class=\"info synopsis\"><span class=\"descriptor\">Synopsis:</span> Travis never thought he would cross paths again with Australian indigenous Gutjuk, when he saved the life of this young...<a class=\"\" data-pageheader=\"\" href=\"https://www.rottentomatoes.com/m/high_ground_2021\" target=\"_top\"> [More]</a></div>\n",
       " <div class=\"info cast\">\n",
       " <span class=\"descriptor\">Starring:</span> <a class=\"\" href=\"//www.rottentomatoes.com/celebrity/jacob_junior_nayinggul\">Jacob Junior Nayinggul</a>, <a class=\"\" href=\"//www.rottentomatoes.com/celebrity/simon_baker\">Simon Baker</a>, <a class=\"\" href=\"//www.rottentomatoes.com/celebrity/callan_mulvey\">Callan Mulvey</a>, <a class=\"\" href=\"//www.rottentomatoes.com/celebrity/aaron_pedersen\">Aaron Pedersen</a></div>\n",
       " <div class=\"info director\">\n",
       " <span class=\"descriptor\">Directed By:</span> <a class=\"\" href=\"//www.rottentomatoes.com/celebrity/stephen_johnson_3\">Stephen Johnson</a></div>\n",
       " </div>\n",
       " </div>\n",
       " </div>\n",
       " </div>,\n",
       " <div class=\"row countdown-item\" id=\"row-index-5\" style=\"padding-left: 10px;\">\n",
       " <div class=\"countdown-index-resposive\">#5</div>\n",
       " <div class=\"col-sm-6 col-full-xs\">\n",
       " <a class=\"article_movie_poster\" href=\"https://www.rottentomatoes.com/m/free_guy\">\n",
       " <div><img alt=\"\" class=\"article_poster\" sborder=\"\" src=\"https://resizing.flixster.com/zT4Kzu1IsPZ41snOCTOFscSwpT4=/fit-in/180x240/v2/https://resizing.flixster.com/CYiiqRNGrTZ1O8qqdsUVx6lVsHw=/ems.cHJkLWVtcy1hc3NldHMvbW92aWVzL2U1NzRmM2YxLWJmZjctNDYzNS05Mjk4LTVmOGM4NGJiMTQwMS5qcGc=\" style=\"border-color: #EEEEEE; border-style: solid; border-width: 1px;\"/></div>\n",
       " </a>\n",
       " </div>\n",
       " <div class=\"col-sm-18 col-full-xs countdown-item-content\">\n",
       " <div class=\"row countdown-item-title-bar\">\n",
       " <div class=\"col-sm-20 col-full-xs\" style=\"height: 100%;\">\n",
       " <div class=\"article_movie_title\" style=\"float: left;\">\n",
       " <div><h2><a href=\"https://www.rottentomatoes.com/m/free_guy\">Free Guy</a> <span class=\"subtle start-year\">(2021)</span> <span class=\"icon big certified\" title=\"Certified Fresh\"></span> <span class=\"tMeterScore\">80%</span></h2></div>\n",
       " </div>\n",
       " </div>\n",
       " <div class=\"col-sm-4 col-full-xs\" style=\"height: 100%;\">\n",
       " <div class=\"countdown-index\">#5</div>\n",
       " </div>\n",
       " </div>\n",
       " <div class=\"row countdown-item-details\">\n",
       " <div class=\"col-sm-24\">\n",
       " <div class=\"info countdown-adjusted-score\"><span class=\"descriptor\">Adjusted Score: </span>93138% <span class=\"glyphicon glyphicon-question-sign\" data-html=\"true\" data-original-title=\"The Adjusted Score comes from a weighted formula (Bayesian) that we use that accounts for variation in the number of reviews per movie.\" data-placement=\"top\" data-toggle=\"tooltip\" rel=\"tooltip\" title=\"\"></span></div>\n",
       " <div class=\"info critics-consensus\"><span class=\"descriptor\">Critics Consensus:</span> Combining a clever concept, sweet, self-aware humor, and a charming cast, <em>Free Guy</em> is frivolous fun.</div>\n",
       " <div class=\"info synopsis\"><span class=\"descriptor\">Synopsis:</span> In \"Free Guy,\" a bank teller who discovers he is actually a background player in an open-world video game, decides...<a class=\"\" data-pageheader=\"\" href=\"https://www.rottentomatoes.com/m/free_guy\" target=\"_top\"> [More]</a></div>\n",
       " <div class=\"info cast\">\n",
       " <span class=\"descriptor\">Starring:</span> <a class=\"\" href=\"//www.rottentomatoes.com/celebrity/ryan_reynolds\">Ryan Reynolds</a>, <a class=\"\" href=\"//www.rottentomatoes.com/celebrity/jodie_comer_2\">Jodie Comer</a>, <a class=\"\" href=\"//www.rottentomatoes.com/celebrity/joe_keery\">Joe Keery</a>, <a class=\"\" href=\"//www.rottentomatoes.com/celebrity/lil_rel_howery\">Lil Rel Howery</a></div>\n",
       " <div class=\"info director\">\n",
       " <span class=\"descriptor\">Directed By:</span> <a class=\"\" href=\"//www.rottentomatoes.com/celebrity/1048166-shawn_levy\">Shawn Levy</a></div>\n",
       " </div>\n",
       " </div>\n",
       " </div>\n",
       " </div>,\n",
       " <div class=\"row countdown-item\" id=\"row-index-6\" style=\"padding-left: 10px;\">\n",
       " <div class=\"countdown-index-resposive\">#6</div>\n",
       " <div class=\"col-sm-6 col-full-xs\">\n",
       " <a class=\"article_movie_poster\" href=\"https://www.rottentomatoes.com/m/shadow_in_the_cloud\">\n",
       " <div><img alt=\"\" class=\"article_poster\" sborder=\"\" src=\"https://resizing.flixster.com/q4wvftGarB9ySAxv0N-fETNQyQc=/fit-in/180x240/v2/https://resizing.flixster.com/E86097-Fz9Z7Yc7KCNiCWyL0aZY=/ems.cHJkLWVtcy1hc3NldHMvbW92aWVzLzgyYjkwNjA3LThhMzctNDE0YS04ZDRjLTA1Nzc3NDM1NDVjOC5qcGc=\" style=\"border-color: #EEEEEE; border-style: solid; border-width: 1px;\"/></div>\n",
       " </a>\n",
       " </div>\n",
       " <div class=\"col-sm-18 col-full-xs countdown-item-content\">\n",
       " <div class=\"row countdown-item-title-bar\">\n",
       " <div class=\"col-sm-20 col-full-xs\" style=\"height: 100%;\">\n",
       " <div class=\"article_movie_title\" style=\"float: left;\">\n",
       " <div><h2><a href=\"https://www.rottentomatoes.com/m/shadow_in_the_cloud\">Shadow in the Cloud</a> <span class=\"subtle start-year\">(2020)</span> <span class=\"icon big certified\" title=\"Certified Fresh\"></span> <span class=\"tMeterScore\">77%</span></h2></div>\n",
       " </div>\n",
       " </div>\n",
       " <div class=\"col-sm-4 col-full-xs\" style=\"height: 100%;\">\n",
       " <div class=\"countdown-index\">#6</div>\n",
       " </div>\n",
       " </div>\n",
       " <div class=\"row countdown-item-details\">\n",
       " <div class=\"col-sm-24\">\n",
       " <div class=\"info countdown-adjusted-score\"><span class=\"descriptor\">Adjusted Score: </span>82272% <span class=\"glyphicon glyphicon-question-sign\" data-html=\"true\" data-original-title=\"The Adjusted Score comes from a weighted formula (Bayesian) that we use that accounts for variation in the number of reviews per movie.\" data-placement=\"top\" data-toggle=\"tooltip\" rel=\"tooltip\" title=\"\"></span></div>\n",
       " <div class=\"info critics-consensus\"><span class=\"descriptor\">Critics Consensus:</span> Part creature feature, part war movie, and part social commentary, <em>Shadow in the Cloud</em> doesn't always blend its ingredients evenly -- but it's frequently pulpy fun.</div>\n",
       " <div class=\"info synopsis\"><span class=\"descriptor\">Synopsis:</span> In the throes of World War II, Captain Maude Garrett (CHLOË GRACE MORETZ) joins the all-male crew of a B-17...<a class=\"\" data-pageheader=\"\" href=\"https://www.rottentomatoes.com/m/shadow_in_the_cloud\" target=\"_top\"> [More]</a></div>\n",
       " <div class=\"info cast\">\n",
       " <span class=\"descriptor\">Starring:</span> <a class=\"\" href=\"//www.rottentomatoes.com/celebrity/chloe_grace_moretz\">Chloë Grace Moretz</a>, <a class=\"\" href=\"//www.rottentomatoes.com/celebrity/nick_robinson\">Nick Robinson</a>, <a class=\"\" href=\"//www.rottentomatoes.com/celebrity/beulah_koale\">Beulah Koale</a>, <a class=\"\" href=\"//www.rottentomatoes.com/celebrity/taylor_john_smith\">Taylor John Smith</a></div>\n",
       " <div class=\"info director\">\n",
       " <span class=\"descriptor\">Directed By:</span> <a class=\"\" href=\"//www.rottentomatoes.com/celebrity/roseanne_liang\">Roseanne Liang</a></div>\n",
       " </div>\n",
       " </div>\n",
       " </div>\n",
       " </div>,\n",
       " <div class=\"row countdown-item\" id=\"row-index-7\" style=\"padding-left: 10px;\">\n",
       " <div class=\"countdown-index-resposive\">#7</div>\n",
       " <div class=\"col-sm-6 col-full-xs\">\n",
       " <a class=\"article_movie_poster\" href=\"https://www.rottentomatoes.com/m/army_of_the_dead_2021\">\n",
       " <div><img alt=\"\" class=\"article_poster\" sborder=\"\" src=\"https://resizing.flixster.com/EH5wkjaPq6Zxp_YIegU1wrIpF-M=/fit-in/180x240/v2/https://resizing.flixster.com/lNRldHOBEcz-g1JpWi53eUPtCfA=/ems.cHJkLWVtcy1hc3NldHMvbW92aWVzL2YyN2RiOGJlLTgyYzMtNDI0OS1iNDJiLTlmZWQ3OWNmNjEwOS5qcGc=\" style=\"border-color: #EEEEEE; border-style: solid; border-width: 1px;\"/></div>\n",
       " </a>\n",
       " </div>\n",
       " <div class=\"col-sm-18 col-full-xs countdown-item-content\">\n",
       " <div class=\"row countdown-item-title-bar\">\n",
       " <div class=\"col-sm-20 col-full-xs\" style=\"height: 100%;\">\n",
       " <div class=\"article_movie_title\" style=\"float: left;\">\n",
       " <div><h2><a href=\"https://www.rottentomatoes.com/m/army_of_the_dead_2021\">Army Of The Dead</a> <span class=\"subtle start-year\">(2021)</span> <span class=\"icon big fresh\" title=\"Fresh\"></span> <span class=\"tMeterScore\">67%</span></h2></div>\n",
       " </div>\n",
       " </div>\n",
       " <div class=\"col-sm-4 col-full-xs\" style=\"height: 100%;\">\n",
       " <div class=\"countdown-index\">#7</div>\n",
       " </div>\n",
       " </div>\n",
       " <div class=\"row countdown-item-details\">\n",
       " <div class=\"col-sm-24\">\n",
       " <div class=\"info countdown-adjusted-score\"><span class=\"descriptor\">Adjusted Score: </span>79624% <span class=\"glyphicon glyphicon-question-sign\" data-html=\"true\" data-original-title=\"The Adjusted Score comes from a weighted formula (Bayesian) that we use that accounts for variation in the number of reviews per movie.\" data-placement=\"top\" data-toggle=\"tooltip\" rel=\"tooltip\" title=\"\"></span></div>\n",
       " <div class=\"info critics-consensus\"><span class=\"descriptor\">Critics Consensus:</span> An ambitious, over-the-top zombie heist mashup, <em>Army of the Dead</em> brings Zack Snyder back to his genre roots with a suitably gory splash.</div>\n",
       " <div class=\"info synopsis\"><span class=\"descriptor\">Synopsis:</span> From filmmaker Zack Snyder (300, Zack Snyder's Justice League), ARMY OF THE DEAD takes place following a zombie outbreak that...<a class=\"\" data-pageheader=\"\" href=\"https://www.rottentomatoes.com/m/army_of_the_dead_2021\" target=\"_top\"> [More]</a></div>\n",
       " <div class=\"info cast\">\n",
       " <span class=\"descriptor\">Starring:</span> <a class=\"\" href=\"//www.rottentomatoes.com/celebrity/dave_bautista\">Dave Bautista</a>, <a class=\"\" href=\"//www.rottentomatoes.com/celebrity/ella_purnell\">Ella Purnell</a>, <a class=\"\" href=\"//www.rottentomatoes.com/celebrity/omari_hardwick\">Omari Hardwick</a>, <a class=\"\" href=\"//www.rottentomatoes.com/celebrity/ana-de-la-reguera\">Ana de la Reguera</a></div>\n",
       " <div class=\"info director\">\n",
       " <span class=\"descriptor\">Directed By:</span> <a class=\"\" href=\"//www.rottentomatoes.com/celebrity/zack_snyder\">Zack Snyder</a></div>\n",
       " </div>\n",
       " </div>\n",
       " </div>\n",
       " </div>,\n",
       " <div class=\"row countdown-item\" id=\"row-index-8\" style=\"padding-left: 10px;\">\n",
       " <div class=\"countdown-index-resposive\">#8</div>\n",
       " <div class=\"col-sm-6 col-full-xs\">\n",
       " <a class=\"article_movie_poster\" href=\"https://www.rottentomatoes.com/m/wrath_of_man\">\n",
       " <div><img alt=\"\" class=\"article_poster\" sborder=\"\" src=\"https://resizing.flixster.com/B64ro53yMHC_Bdp32fcJRen8fsg=/fit-in/180x240/v2/https://flxt.tmsimg.com/assets/p18774021_p_v7_am.jpg\" style=\"border-color: #EEEEEE; border-style: solid; border-width: 1px;\"/></div>\n",
       " </a>\n",
       " </div>\n",
       " <div class=\"col-sm-18 col-full-xs countdown-item-content\">\n",
       " <div class=\"row countdown-item-title-bar\">\n",
       " <div class=\"col-sm-20 col-full-xs\" style=\"height: 100%;\">\n",
       " <div class=\"article_movie_title\" style=\"float: left;\">\n",
       " <div><h2><a href=\"https://www.rottentomatoes.com/m/wrath_of_man\">Wrath of Man</a> <span class=\"subtle start-year\">(2021)</span> <span class=\"icon big fresh\" title=\"Fresh\"></span> <span class=\"tMeterScore\">67%</span></h2></div>\n",
       " </div>\n",
       " </div>\n",
       " <div class=\"col-sm-4 col-full-xs\" style=\"height: 100%;\">\n",
       " <div class=\"countdown-index\">#8</div>\n",
       " </div>\n",
       " </div>\n",
       " <div class=\"row countdown-item-details\">\n",
       " <div class=\"col-sm-24\">\n",
       " <div class=\"info countdown-adjusted-score\"><span class=\"descriptor\">Adjusted Score: </span>78281% <span class=\"glyphicon glyphicon-question-sign\" data-html=\"true\" data-original-title=\"The Adjusted Score comes from a weighted formula (Bayesian) that we use that accounts for variation in the number of reviews per movie.\" data-placement=\"top\" data-toggle=\"tooltip\" rel=\"tooltip\" title=\"\"></span></div>\n",
       " <div class=\"info critics-consensus\"><span class=\"descriptor\">Critics Consensus:</span> Wrestling just enough stakes out of its thin plot, <em>Wrath of Man</em> sees Guy Ritchie and Jason Statham reunite for a fun, action-packed ride.</div>\n",
       " <div class=\"info synopsis\"><span class=\"descriptor\">Synopsis:</span> A mysterious and wild-eyed new cash truck security guard (Jason Statham) surprises his coworkers during a heist in which he...<a class=\"\" data-pageheader=\"\" href=\"https://www.rottentomatoes.com/m/wrath_of_man\" target=\"_top\"> [More]</a></div>\n",
       " <div class=\"info cast\">\n",
       " <span class=\"descriptor\">Starring:</span> <a class=\"\" href=\"//www.rottentomatoes.com/celebrity/jason_statham\">Jason Statham</a>, <a class=\"\" href=\"//www.rottentomatoes.com/celebrity/holt_mccallany\">Holt McCallany</a>, <a class=\"\" href=\"//www.rottentomatoes.com/celebrity/jeffrey_donovan\">Jeffrey Donovan</a>, <a class=\"\" href=\"//www.rottentomatoes.com/celebrity/josh_hartnett\">Josh Hartnett</a></div>\n",
       " <div class=\"info director\">\n",
       " <span class=\"descriptor\">Directed By:</span> <a class=\"\" href=\"//www.rottentomatoes.com/celebrity/guy_ritchie\">Guy Ritchie</a></div>\n",
       " </div>\n",
       " </div>\n",
       " </div>\n",
       " </div>,\n",
       " <div class=\"row countdown-item\" id=\"row-index-9\" style=\"padding-left: 10px;\">\n",
       " <div class=\"countdown-index-resposive\">#9</div>\n",
       " <div class=\"col-sm-6 col-full-xs\">\n",
       " <a class=\"article_movie_poster\" href=\"https://www.rottentomatoes.com/m/jungle_cruise\">\n",
       " <div><img alt=\"\" class=\"article_poster\" sborder=\"\" src=\"https://resizing.flixster.com/FG2-cr49z14lvIE3SrpqkWaz2gM=/fit-in/180x240/v2/https://resizing.flixster.com/jAVMCNx-3OTxhXG4MsnOqldFK4w=/ems.cHJkLWVtcy1hc3NldHMvbW92aWVzLzIyY2E4ZTAxLTUwMGItNDQ1My1hNzNiLTZkOGRhNjgyY2Y4ZC5qcGc=\" style=\"border-color: #EEEEEE; border-style: solid; border-width: 1px;\"/></div>\n",
       " </a>\n",
       " </div>\n",
       " <div class=\"col-sm-18 col-full-xs countdown-item-content\">\n",
       " <div class=\"row countdown-item-title-bar\">\n",
       " <div class=\"col-sm-20 col-full-xs\" style=\"height: 100%;\">\n",
       " <div class=\"article_movie_title\" style=\"float: left;\">\n",
       " <div><h2><a href=\"https://www.rottentomatoes.com/m/jungle_cruise\">Jungle Cruise</a> <span class=\"subtle start-year\">(2021)</span> <span class=\"icon big fresh\" title=\"Fresh\"></span> <span class=\"tMeterScore\">63%</span></h2></div>\n",
       " </div>\n",
       " </div>\n",
       " <div class=\"col-sm-4 col-full-xs\" style=\"height: 100%;\">\n",
       " <div class=\"countdown-index\">#9</div>\n",
       " </div>\n",
       " </div>\n",
       " <div class=\"row countdown-item-details\">\n",
       " <div class=\"col-sm-24\">\n",
       " <div class=\"info countdown-adjusted-score\"><span class=\"descriptor\">Adjusted Score: </span>78540% <span class=\"glyphicon glyphicon-question-sign\" data-html=\"true\" data-original-title=\"The Adjusted Score comes from a weighted formula (Bayesian) that we use that accounts for variation in the number of reviews per movie.\" data-placement=\"top\" data-toggle=\"tooltip\" rel=\"tooltip\" title=\"\"></span></div>\n",
       " <div class=\"info critics-consensus\"><span class=\"descriptor\">Critics Consensus:</span> Its craft isn't quite as sturdy as some of the classic adventures it's indebted to, but <em>Jungle Cruise</em> remains a fun, family-friendly voyage.</div>\n",
       " <div class=\"info synopsis\"><span class=\"descriptor\">Synopsis:</span> Join fan favorites Dwayne Johnson and Emily Blunt for the adventure of a lifetime on Disney's JUNGLE CRUISE, a rollicking...<a class=\"\" data-pageheader=\"\" href=\"https://www.rottentomatoes.com/m/jungle_cruise\" target=\"_top\"> [More]</a></div>\n",
       " <div class=\"info cast\">\n",
       " <span class=\"descriptor\">Starring:</span> <a class=\"\" href=\"//www.rottentomatoes.com/celebrity/dwayne_johnson\">Dwayne Johnson</a>, <a class=\"\" href=\"//www.rottentomatoes.com/celebrity/1163951-emily_blunt\">Emily Blunt</a>, <a class=\"\" href=\"//www.rottentomatoes.com/celebrity/edgar_ramirez\">Edgar Ramírez</a>, <a class=\"\" href=\"//www.rottentomatoes.com/celebrity/jack_whitehall\">Jack Whitehall</a></div>\n",
       " <div class=\"info director\">\n",
       " <span class=\"descriptor\">Directed By:</span> <a class=\"\" href=\"//www.rottentomatoes.com/celebrity/jaume_collet_sera\">Jaume Collet-Serra</a></div>\n",
       " </div>\n",
       " </div>\n",
       " </div>\n",
       " </div>,\n",
       " <div class=\"row countdown-item\" id=\"row-index-10\" style=\"padding-left: 10px;\">\n",
       " <div class=\"countdown-index-resposive\">#10</div>\n",
       " <div class=\"col-sm-6 col-full-xs\">\n",
       " <a class=\"article_movie_poster\" href=\"https://www.rottentomatoes.com/m/army_of_thieves\">\n",
       " <div><img alt=\"\" class=\"article_poster\" sborder=\"\" src=\"https://resizing.flixster.com/ZsrqFvcSVOHE4EALm-c7NtOUShY=/fit-in/180x240/v2/https://resizing.flixster.com/zVZ3DaUsMvf9YALIJphH8llzZ4M=/ems.cHJkLWVtcy1hc3NldHMvbW92aWVzLzgwNWRiYmY0LWUwMmUtNGU0MS05ZWZmLTBmZDYyNDQ5MmFlYy5qcGc=\" style=\"border-color: #EEEEEE; border-style: solid; border-width: 1px;\"/></div>\n",
       " </a>\n",
       " </div>\n",
       " <div class=\"col-sm-18 col-full-xs countdown-item-content\">\n",
       " <div class=\"row countdown-item-title-bar\">\n",
       " <div class=\"col-sm-20 col-full-xs\" style=\"height: 100%;\">\n",
       " <div class=\"article_movie_title\" style=\"float: left;\">\n",
       " <div><h2><a href=\"https://www.rottentomatoes.com/m/army_of_thieves\">Army of Thieves</a> <span class=\"subtle start-year\">(2021)</span> <span class=\"icon big fresh\" title=\"Fresh\"></span> <span class=\"tMeterScore\">68%</span></h2></div>\n",
       " </div>\n",
       " </div>\n",
       " <div class=\"col-sm-4 col-full-xs\" style=\"height: 100%;\">\n",
       " <div class=\"countdown-index\">#10</div>\n",
       " </div>\n",
       " </div>\n",
       " <div class=\"row countdown-item-details\">\n",
       " <div class=\"col-sm-24\">\n",
       " <div class=\"info countdown-adjusted-score\"><span class=\"descriptor\">Adjusted Score: </span>71665% <span class=\"glyphicon glyphicon-question-sign\" data-html=\"true\" data-original-title=\"The Adjusted Score comes from a weighted formula (Bayesian) that we use that accounts for variation in the number of reviews per movie.\" data-placement=\"top\" data-toggle=\"tooltip\" rel=\"tooltip\" title=\"\"></span></div>\n",
       " <div class=\"info critics-consensus\"><span class=\"descriptor\">Critics Consensus:</span> <em>Army of Thieves</em> doesn't reinvent the heist thriller, but director-star Matthias Schweighöfer proves an appealing presence on both sides of the camera.</div>\n",
       " <div class=\"info synopsis\"><span class=\"descriptor\">Synopsis:</span> In this prequel to Zack Snyder's Army of the Dead, small-town bank teller Dieter gets drawn into the adventure of...<a class=\"\" data-pageheader=\"\" href=\"https://www.rottentomatoes.com/m/army_of_thieves\" target=\"_top\"> [More]</a></div>\n",
       " <div class=\"info cast\">\n",
       " <span class=\"descriptor\">Starring:</span> <a class=\"\" href=\"//www.rottentomatoes.com/celebrity/matthias_schweighofer\">Matthias Schweighöfer</a>, <a class=\"\" href=\"//www.rottentomatoes.com/celebrity/nathalie_emmanuel\">Nathalie Emmanuel</a>, <a class=\"\" href=\"//www.rottentomatoes.com/celebrity/ruby_o_fee\">Ruby O. Fee</a>, <a class=\"\" href=\"//www.rottentomatoes.com/celebrity/stuart_martin\">Stuart Martin</a></div>\n",
       " <div class=\"info director\">\n",
       " <span class=\"descriptor\">Directed By:</span> <a class=\"\" href=\"//www.rottentomatoes.com/celebrity/matthias_schweighofer\">Matthias Schweighöfer</a></div>\n",
       " </div>\n",
       " </div>\n",
       " </div>\n",
       " </div>]"
      ]
     },
     "execution_count": 4,
     "metadata": {},
     "output_type": "execute_result"
    }
   ],
   "source": [
    "divs = soup.find_all('div', {'class':'row countdown-item'})\n",
    "divs"
   ]
  },
  {
   "cell_type": "code",
   "execution_count": 5,
   "id": "dirty-great",
   "metadata": {},
   "outputs": [
    {
     "data": {
      "text/plain": [
       "[<div class=\"row countdown-item-title-bar\">\n",
       " <div class=\"col-sm-20 col-full-xs\" style=\"height: 100%;\">\n",
       " <div class=\"article_movie_title\" style=\"float: left;\">\n",
       " <div><h2><a href=\"https://www.rottentomatoes.com/m/no_time_to_die_2021\">No Time to Die</a> <span class=\"subtle start-year\">(2021)</span> <span class=\"icon big certified\" title=\"Certified Fresh\"></span> <span class=\"tMeterScore\">83%</span></h2></div>\n",
       " </div>\n",
       " </div>\n",
       " <div class=\"col-sm-4 col-full-xs\" style=\"height: 100%;\">\n",
       " <div class=\"countdown-index\">#1</div>\n",
       " </div>\n",
       " </div>]"
      ]
     },
     "execution_count": 5,
     "metadata": {},
     "output_type": "execute_result"
    }
   ],
   "source": [
    "divs[0].find_all('div', {'class':'row countdown-item-title-bar'})"
   ]
  },
  {
   "cell_type": "code",
   "execution_count": 6,
   "id": "limited-invasion",
   "metadata": {},
   "outputs": [
    {
     "data": {
      "text/plain": [
       "<h2><a href=\"https://www.rottentomatoes.com/m/no_time_to_die_2021\">No Time to Die</a> <span class=\"subtle start-year\">(2021)</span> <span class=\"icon big certified\" title=\"Certified Fresh\"></span> <span class=\"tMeterScore\">83%</span></h2>"
      ]
     },
     "execution_count": 6,
     "metadata": {},
     "output_type": "execute_result"
    }
   ],
   "source": [
    "divs[0].find('h2')"
   ]
  },
  {
   "cell_type": "code",
   "execution_count": 7,
   "id": "alone-ancient",
   "metadata": {
    "scrolled": true
   },
   "outputs": [
    {
     "data": {
      "text/plain": [
       "[<h2><a href=\"https://www.rottentomatoes.com/m/no_time_to_die_2021\">No Time to Die</a> <span class=\"subtle start-year\">(2021)</span> <span class=\"icon big certified\" title=\"Certified Fresh\"></span> <span class=\"tMeterScore\">83%</span></h2>,\n",
       " <h2><a href=\"https://www.rottentomatoes.com/m/old_henry\">Old Henry</a> <span class=\"subtle start-year\">(2021)</span> <span class=\"icon big certified\" title=\"Certified Fresh\"></span> <span class=\"tMeterScore\">94%</span></h2>,\n",
       " <h2><a href=\"https://www.rottentomatoes.com/m/the_harder_they_fall\">The Harder They Fall</a> <span class=\"subtle start-year\">(2021)</span> <span class=\"icon big certified\" title=\"Certified Fresh\"></span> <span class=\"tMeterScore\">88%</span></h2>,\n",
       " <h2><a href=\"https://www.rottentomatoes.com/m/high_ground_2021\">High Ground</a> <span class=\"subtle start-year\">(2020)</span> <span class=\"icon big certified\" title=\"Certified Fresh\"></span> <span class=\"tMeterScore\">90%</span></h2>,\n",
       " <h2><a href=\"https://www.rottentomatoes.com/m/free_guy\">Free Guy</a> <span class=\"subtle start-year\">(2021)</span> <span class=\"icon big certified\" title=\"Certified Fresh\"></span> <span class=\"tMeterScore\">80%</span></h2>,\n",
       " <h2><a href=\"https://www.rottentomatoes.com/m/shadow_in_the_cloud\">Shadow in the Cloud</a> <span class=\"subtle start-year\">(2020)</span> <span class=\"icon big certified\" title=\"Certified Fresh\"></span> <span class=\"tMeterScore\">77%</span></h2>,\n",
       " <h2><a href=\"https://www.rottentomatoes.com/m/army_of_the_dead_2021\">Army Of The Dead</a> <span class=\"subtle start-year\">(2021)</span> <span class=\"icon big fresh\" title=\"Fresh\"></span> <span class=\"tMeterScore\">67%</span></h2>,\n",
       " <h2><a href=\"https://www.rottentomatoes.com/m/wrath_of_man\">Wrath of Man</a> <span class=\"subtle start-year\">(2021)</span> <span class=\"icon big fresh\" title=\"Fresh\"></span> <span class=\"tMeterScore\">67%</span></h2>,\n",
       " <h2><a href=\"https://www.rottentomatoes.com/m/jungle_cruise\">Jungle Cruise</a> <span class=\"subtle start-year\">(2021)</span> <span class=\"icon big fresh\" title=\"Fresh\"></span> <span class=\"tMeterScore\">63%</span></h2>,\n",
       " <h2><a href=\"https://www.rottentomatoes.com/m/army_of_thieves\">Army of Thieves</a> <span class=\"subtle start-year\">(2021)</span> <span class=\"icon big fresh\" title=\"Fresh\"></span> <span class=\"tMeterScore\">68%</span></h2>]"
      ]
     },
     "execution_count": 7,
     "metadata": {},
     "output_type": "execute_result"
    }
   ],
   "source": [
    "headings = [div.find('h2')for div in divs]\n",
    "headings"
   ]
  },
  {
   "cell_type": "code",
   "execution_count": 8,
   "id": "exceptional-knowing",
   "metadata": {},
   "outputs": [
    {
     "data": {
      "text/plain": [
       "<h2><a href=\"https://www.rottentomatoes.com/m/no_time_to_die_2021\">No Time to Die</a> <span class=\"subtle start-year\">(2021)</span> <span class=\"icon big certified\" title=\"Certified Fresh\"></span> <span class=\"tMeterScore\">83%</span></h2>"
      ]
     },
     "execution_count": 8,
     "metadata": {},
     "output_type": "execute_result"
    }
   ],
   "source": [
    "headings[0]"
   ]
  },
  {
   "cell_type": "code",
   "execution_count": 9,
   "id": "demographic-jumping",
   "metadata": {},
   "outputs": [
    {
     "data": {
      "text/plain": [
       "[<a href=\"https://www.rottentomatoes.com/m/no_time_to_die_2021\">No Time to Die</a>,\n",
       " <a href=\"https://www.rottentomatoes.com/m/old_henry\">Old Henry</a>,\n",
       " <a href=\"https://www.rottentomatoes.com/m/the_harder_they_fall\">The Harder They Fall</a>,\n",
       " <a href=\"https://www.rottentomatoes.com/m/high_ground_2021\">High Ground</a>,\n",
       " <a href=\"https://www.rottentomatoes.com/m/free_guy\">Free Guy</a>,\n",
       " <a href=\"https://www.rottentomatoes.com/m/shadow_in_the_cloud\">Shadow in the Cloud</a>,\n",
       " <a href=\"https://www.rottentomatoes.com/m/army_of_the_dead_2021\">Army Of The Dead</a>,\n",
       " <a href=\"https://www.rottentomatoes.com/m/wrath_of_man\">Wrath of Man</a>,\n",
       " <a href=\"https://www.rottentomatoes.com/m/jungle_cruise\">Jungle Cruise</a>,\n",
       " <a href=\"https://www.rottentomatoes.com/m/army_of_thieves\">Army of Thieves</a>]"
      ]
     },
     "execution_count": 9,
     "metadata": {},
     "output_type": "execute_result"
    }
   ],
   "source": [
    "#Title\n",
    "[heading.find('a') for heading in headings]"
   ]
  },
  {
   "cell_type": "code",
   "execution_count": 10,
   "id": "metallic-folder",
   "metadata": {},
   "outputs": [
    {
     "data": {
      "text/plain": [
       "['No Time to Die',\n",
       " 'Old Henry',\n",
       " 'The Harder They Fall',\n",
       " 'High Ground',\n",
       " 'Free Guy',\n",
       " 'Shadow in the Cloud',\n",
       " 'Army Of The Dead',\n",
       " 'Wrath of Man',\n",
       " 'Jungle Cruise',\n",
       " 'Army of Thieves']"
      ]
     },
     "execution_count": 10,
     "metadata": {},
     "output_type": "execute_result"
    }
   ],
   "source": [
    "movie_names = [heading.find('a').string for heading in headings] \n",
    "movie_names"
   ]
  },
  {
   "cell_type": "code",
   "execution_count": 11,
   "id": "binary-secretary",
   "metadata": {},
   "outputs": [
    {
     "data": {
      "text/plain": [
       "<h2><a href=\"https://www.rottentomatoes.com/m/no_time_to_die_2021\">No Time to Die</a> <span class=\"subtle start-year\">(2021)</span> <span class=\"icon big certified\" title=\"Certified Fresh\"></span> <span class=\"tMeterScore\">83%</span></h2>"
      ]
     },
     "execution_count": 11,
     "metadata": {},
     "output_type": "execute_result"
    }
   ],
   "source": [
    "# year\n",
    "headings[0]"
   ]
  },
  {
   "cell_type": "code",
   "execution_count": 12,
   "id": "circular-general",
   "metadata": {},
   "outputs": [
    {
     "data": {
      "text/plain": [
       "[<span class=\"subtle start-year\">(2021)</span>,\n",
       " <span class=\"subtle start-year\">(2021)</span>,\n",
       " <span class=\"subtle start-year\">(2021)</span>,\n",
       " <span class=\"subtle start-year\">(2020)</span>,\n",
       " <span class=\"subtle start-year\">(2021)</span>,\n",
       " <span class=\"subtle start-year\">(2020)</span>,\n",
       " <span class=\"subtle start-year\">(2021)</span>,\n",
       " <span class=\"subtle start-year\">(2021)</span>,\n",
       " <span class=\"subtle start-year\">(2021)</span>,\n",
       " <span class=\"subtle start-year\">(2021)</span>]"
      ]
     },
     "execution_count": 12,
     "metadata": {},
     "output_type": "execute_result"
    }
   ],
   "source": [
    "# year \n",
    "[heading.find('span',class_ = 'subtle start-year') for heading in headings] "
   ]
  },
  {
   "cell_type": "code",
   "execution_count": 13,
   "id": "intermediate-scottish",
   "metadata": {},
   "outputs": [
    {
     "data": {
      "text/plain": [
       "['2021',\n",
       " '2021',\n",
       " '2021',\n",
       " '2020',\n",
       " '2021',\n",
       " '2020',\n",
       " '2021',\n",
       " '2021',\n",
       " '2021',\n",
       " '2021']"
      ]
     },
     "execution_count": 13,
     "metadata": {},
     "output_type": "execute_result"
    }
   ],
   "source": [
    "movie_year = [heading.find('span',class_ = 'subtle start-year').string[1:-1] for heading in headings] \n",
    "movie_year"
   ]
  },
  {
   "cell_type": "code",
   "execution_count": 14,
   "id": "formal-momentum",
   "metadata": {},
   "outputs": [
    {
     "data": {
      "text/plain": [
       "[2021, 2021, 2021, 2020, 2021, 2020, 2021, 2021, 2021, 2021]"
      ]
     },
     "execution_count": 14,
     "metadata": {},
     "output_type": "execute_result"
    }
   ],
   "source": [
    "movie_year=[int(movie_year) for movie_year in movie_year]\n",
    "movie_year"
   ]
  },
  {
   "cell_type": "code",
   "execution_count": 15,
   "id": "wired-gabriel",
   "metadata": {},
   "outputs": [
    {
     "data": {
      "text/plain": [
       "<h2><a href=\"https://www.rottentomatoes.com/m/no_time_to_die_2021\">No Time to Die</a> <span class=\"subtle start-year\">(2021)</span> <span class=\"icon big certified\" title=\"Certified Fresh\"></span> <span class=\"tMeterScore\">83%</span></h2>"
      ]
     },
     "execution_count": 15,
     "metadata": {},
     "output_type": "execute_result"
    }
   ],
   "source": [
    "# rating\n",
    "headings[0]"
   ]
  },
  {
   "cell_type": "code",
   "execution_count": 16,
   "id": "federal-plumbing",
   "metadata": {},
   "outputs": [
    {
     "data": {
      "text/plain": [
       "[<span class=\"tMeterScore\">83%</span>,\n",
       " <span class=\"tMeterScore\">94%</span>,\n",
       " <span class=\"tMeterScore\">88%</span>,\n",
       " <span class=\"tMeterScore\">90%</span>,\n",
       " <span class=\"tMeterScore\">80%</span>,\n",
       " <span class=\"tMeterScore\">77%</span>,\n",
       " <span class=\"tMeterScore\">67%</span>,\n",
       " <span class=\"tMeterScore\">67%</span>,\n",
       " <span class=\"tMeterScore\">63%</span>,\n",
       " <span class=\"tMeterScore\">68%</span>]"
      ]
     },
     "execution_count": 16,
     "metadata": {},
     "output_type": "execute_result"
    }
   ],
   "source": [
    "[heading.find('span',class_ = 'tMeterScore') for heading in headings] "
   ]
  },
  {
   "cell_type": "code",
   "execution_count": 17,
   "id": "interracial-exemption",
   "metadata": {},
   "outputs": [
    {
     "data": {
      "text/plain": [
       "['83%', '94%', '88%', '90%', '80%', '77%', '67%', '67%', '63%', '68%']"
      ]
     },
     "execution_count": 17,
     "metadata": {},
     "output_type": "execute_result"
    }
   ],
   "source": [
    "movie_rate = [heading.find('span',class_ = 'tMeterScore').string for heading in headings] \n",
    "movie_rate"
   ]
  },
  {
   "cell_type": "code",
   "execution_count": 18,
   "id": "architectural-spice",
   "metadata": {},
   "outputs": [
    {
     "data": {
      "text/plain": [
       "['83', '94', '88', '90', '80', '77', '67', '67', '63', '68']"
      ]
     },
     "execution_count": 18,
     "metadata": {},
     "output_type": "execute_result"
    }
   ],
   "source": [
    "movie_rate=[rate.strip('%') for rate in movie_rate]\n",
    "movie_rate"
   ]
  },
  {
   "cell_type": "code",
   "execution_count": 19,
   "id": "loved-aside",
   "metadata": {},
   "outputs": [
    {
     "data": {
      "text/plain": [
       "[83, 94, 88, 90, 80, 77, 67, 67, 63, 68]"
      ]
     },
     "execution_count": 19,
     "metadata": {},
     "output_type": "execute_result"
    }
   ],
   "source": [
    "movie_rate=[int(movie_rate) for movie_rate in movie_rate]\n",
    "movie_rate"
   ]
  },
  {
   "cell_type": "code",
   "execution_count": 20,
   "id": "loose-deficit",
   "metadata": {},
   "outputs": [
    {
     "data": {
      "text/plain": [
       "[<div class=\"info director\">\n",
       " <span class=\"descriptor\">Directed By:</span> <a class=\"\" href=\"//www.rottentomatoes.com/celebrity/cary_joji_fukunaga\">Cary Joji Fukunaga</a></div>,\n",
       " <div class=\"info director\">\n",
       " <span class=\"descriptor\">Directed By:</span> <a class=\"\" href=\"//www.rottentomatoes.com/celebrity/potsy_ponciroli_2\">Potsy Ponciroli</a></div>,\n",
       " <div class=\"info director\">\n",
       " <span class=\"descriptor\">Directed By:</span> <a class=\"\" href=\"//www.rottentomatoes.com/celebrity/jeymes_samuel\">Jeymes Samuel</a></div>,\n",
       " <div class=\"info director\">\n",
       " <span class=\"descriptor\">Directed By:</span> <a class=\"\" href=\"//www.rottentomatoes.com/celebrity/stephen_johnson_3\">Stephen Johnson</a></div>,\n",
       " <div class=\"info director\">\n",
       " <span class=\"descriptor\">Directed By:</span> <a class=\"\" href=\"//www.rottentomatoes.com/celebrity/1048166-shawn_levy\">Shawn Levy</a></div>,\n",
       " <div class=\"info director\">\n",
       " <span class=\"descriptor\">Directed By:</span> <a class=\"\" href=\"//www.rottentomatoes.com/celebrity/roseanne_liang\">Roseanne Liang</a></div>,\n",
       " <div class=\"info director\">\n",
       " <span class=\"descriptor\">Directed By:</span> <a class=\"\" href=\"//www.rottentomatoes.com/celebrity/zack_snyder\">Zack Snyder</a></div>,\n",
       " <div class=\"info director\">\n",
       " <span class=\"descriptor\">Directed By:</span> <a class=\"\" href=\"//www.rottentomatoes.com/celebrity/guy_ritchie\">Guy Ritchie</a></div>,\n",
       " <div class=\"info director\">\n",
       " <span class=\"descriptor\">Directed By:</span> <a class=\"\" href=\"//www.rottentomatoes.com/celebrity/jaume_collet_sera\">Jaume Collet-Serra</a></div>,\n",
       " <div class=\"info director\">\n",
       " <span class=\"descriptor\">Directed By:</span> <a class=\"\" href=\"//www.rottentomatoes.com/celebrity/matthias_schweighofer\">Matthias Schweighöfer</a></div>]"
      ]
     },
     "execution_count": 20,
     "metadata": {},
     "output_type": "execute_result"
    }
   ],
   "source": [
    "# dirctors\n",
    "directors = [div.find('div', class_ = 'info director')for div in divs]\n",
    "directors"
   ]
  },
  {
   "cell_type": "code",
   "execution_count": 21,
   "id": "lesbian-offering",
   "metadata": {},
   "outputs": [
    {
     "data": {
      "text/plain": [
       "<div class=\"info director\">\n",
       "<span class=\"descriptor\">Directed By:</span> <a class=\"\" href=\"//www.rottentomatoes.com/celebrity/cary_joji_fukunaga\">Cary Joji Fukunaga</a></div>"
      ]
     },
     "execution_count": 21,
     "metadata": {},
     "output_type": "execute_result"
    }
   ],
   "source": [
    "directors[0]"
   ]
  },
  {
   "cell_type": "code",
   "execution_count": 22,
   "id": "opponent-corner",
   "metadata": {},
   "outputs": [
    {
     "data": {
      "text/plain": [
       "['Cary Joji Fukunaga',\n",
       " 'Potsy Ponciroli',\n",
       " 'Jeymes Samuel',\n",
       " 'Stephen Johnson',\n",
       " 'Shawn Levy',\n",
       " 'Roseanne Liang',\n",
       " 'Zack Snyder',\n",
       " 'Guy Ritchie',\n",
       " 'Jaume Collet-Serra',\n",
       " 'Matthias Schweighöfer']"
      ]
     },
     "execution_count": 22,
     "metadata": {},
     "output_type": "execute_result"
    }
   ],
   "source": [
    "[director.find('a').string for director in directors]"
   ]
  },
  {
   "cell_type": "code",
   "execution_count": 23,
   "id": "artificial-gilbert",
   "metadata": {},
   "outputs": [
    {
     "data": {
      "text/plain": [
       "['Cary Joji Fukunaga',\n",
       " 'Potsy Ponciroli',\n",
       " 'Jeymes Samuel',\n",
       " 'Stephen Johnson',\n",
       " 'Shawn Levy',\n",
       " 'Roseanne Liang',\n",
       " 'Zack Snyder',\n",
       " 'Guy Ritchie',\n",
       " 'Jaume Collet-Serra',\n",
       " 'Matthias Schweighöfer']"
      ]
     },
     "execution_count": 23,
     "metadata": {},
     "output_type": "execute_result"
    }
   ],
   "source": [
    "directors_name = [director.find('a').string for director in directors]\n",
    "directors_name"
   ]
  },
  {
   "cell_type": "code",
   "execution_count": 24,
   "id": "freelance-philadelphia",
   "metadata": {
    "scrolled": true
   },
   "outputs": [
    {
     "data": {
      "text/plain": [
       "[<div class=\"info cast\">\n",
       " <span class=\"descriptor\">Starring:</span> <a class=\"\" href=\"//www.rottentomatoes.com/celebrity/daniel_craig\">Daniel Craig</a>, <a class=\"\" href=\"//www.rottentomatoes.com/celebrity/rami_malek\">Rami Malek</a>, <a class=\"\" href=\"//www.rottentomatoes.com/celebrity/lea_seydoux\">Léa Seydoux</a>, <a class=\"\" href=\"//www.rottentomatoes.com/celebrity/lashana_lynch\">Lashana Lynch</a></div>,\n",
       " <div class=\"info cast\">\n",
       " <span class=\"descriptor\">Starring:</span> <a class=\"\" href=\"//www.rottentomatoes.com/celebrity/tim_blake_nelson\">Tim Blake Nelson</a>, <a class=\"\" href=\"//www.rottentomatoes.com/celebrity/scott_haze\">Scott Haze</a>, <a class=\"\" href=\"//www.rottentomatoes.com/celebrity/gavin_lewis_2\">Gavin Lewis</a>, <a class=\"\" href=\"//www.rottentomatoes.com/celebrity/trace-adkins\">Trace Adkins</a></div>,\n",
       " <div class=\"info cast\">\n",
       " <span class=\"descriptor\">Starring:</span> <a class=\"\" href=\"//www.rottentomatoes.com/celebrity/jonathan_majors\">Jonathan Majors</a>, <a class=\"\" href=\"//www.rottentomatoes.com/celebrity/zazie_beetz\">Zazie Beetz</a>, <a class=\"\" href=\"//www.rottentomatoes.com/celebrity/delroy_lindo\">Delroy Lindo</a>, <a class=\"\" href=\"//www.rottentomatoes.com/celebrity/lakeith_stanfield\">LaKeith Stanfield</a></div>,\n",
       " <div class=\"info cast\">\n",
       " <span class=\"descriptor\">Starring:</span> <a class=\"\" href=\"//www.rottentomatoes.com/celebrity/jacob_junior_nayinggul\">Jacob Junior Nayinggul</a>, <a class=\"\" href=\"//www.rottentomatoes.com/celebrity/simon_baker\">Simon Baker</a>, <a class=\"\" href=\"//www.rottentomatoes.com/celebrity/callan_mulvey\">Callan Mulvey</a>, <a class=\"\" href=\"//www.rottentomatoes.com/celebrity/aaron_pedersen\">Aaron Pedersen</a></div>,\n",
       " <div class=\"info cast\">\n",
       " <span class=\"descriptor\">Starring:</span> <a class=\"\" href=\"//www.rottentomatoes.com/celebrity/ryan_reynolds\">Ryan Reynolds</a>, <a class=\"\" href=\"//www.rottentomatoes.com/celebrity/jodie_comer_2\">Jodie Comer</a>, <a class=\"\" href=\"//www.rottentomatoes.com/celebrity/joe_keery\">Joe Keery</a>, <a class=\"\" href=\"//www.rottentomatoes.com/celebrity/lil_rel_howery\">Lil Rel Howery</a></div>,\n",
       " <div class=\"info cast\">\n",
       " <span class=\"descriptor\">Starring:</span> <a class=\"\" href=\"//www.rottentomatoes.com/celebrity/chloe_grace_moretz\">Chloë Grace Moretz</a>, <a class=\"\" href=\"//www.rottentomatoes.com/celebrity/nick_robinson\">Nick Robinson</a>, <a class=\"\" href=\"//www.rottentomatoes.com/celebrity/beulah_koale\">Beulah Koale</a>, <a class=\"\" href=\"//www.rottentomatoes.com/celebrity/taylor_john_smith\">Taylor John Smith</a></div>,\n",
       " <div class=\"info cast\">\n",
       " <span class=\"descriptor\">Starring:</span> <a class=\"\" href=\"//www.rottentomatoes.com/celebrity/dave_bautista\">Dave Bautista</a>, <a class=\"\" href=\"//www.rottentomatoes.com/celebrity/ella_purnell\">Ella Purnell</a>, <a class=\"\" href=\"//www.rottentomatoes.com/celebrity/omari_hardwick\">Omari Hardwick</a>, <a class=\"\" href=\"//www.rottentomatoes.com/celebrity/ana-de-la-reguera\">Ana de la Reguera</a></div>,\n",
       " <div class=\"info cast\">\n",
       " <span class=\"descriptor\">Starring:</span> <a class=\"\" href=\"//www.rottentomatoes.com/celebrity/jason_statham\">Jason Statham</a>, <a class=\"\" href=\"//www.rottentomatoes.com/celebrity/holt_mccallany\">Holt McCallany</a>, <a class=\"\" href=\"//www.rottentomatoes.com/celebrity/jeffrey_donovan\">Jeffrey Donovan</a>, <a class=\"\" href=\"//www.rottentomatoes.com/celebrity/josh_hartnett\">Josh Hartnett</a></div>,\n",
       " <div class=\"info cast\">\n",
       " <span class=\"descriptor\">Starring:</span> <a class=\"\" href=\"//www.rottentomatoes.com/celebrity/dwayne_johnson\">Dwayne Johnson</a>, <a class=\"\" href=\"//www.rottentomatoes.com/celebrity/1163951-emily_blunt\">Emily Blunt</a>, <a class=\"\" href=\"//www.rottentomatoes.com/celebrity/edgar_ramirez\">Edgar Ramírez</a>, <a class=\"\" href=\"//www.rottentomatoes.com/celebrity/jack_whitehall\">Jack Whitehall</a></div>,\n",
       " <div class=\"info cast\">\n",
       " <span class=\"descriptor\">Starring:</span> <a class=\"\" href=\"//www.rottentomatoes.com/celebrity/matthias_schweighofer\">Matthias Schweighöfer</a>, <a class=\"\" href=\"//www.rottentomatoes.com/celebrity/nathalie_emmanuel\">Nathalie Emmanuel</a>, <a class=\"\" href=\"//www.rottentomatoes.com/celebrity/ruby_o_fee\">Ruby O. Fee</a>, <a class=\"\" href=\"//www.rottentomatoes.com/celebrity/stuart_martin\">Stuart Martin</a></div>]"
      ]
     },
     "execution_count": 24,
     "metadata": {},
     "output_type": "execute_result"
    }
   ],
   "source": [
    "# starring\n",
    "starring = [div.find('div', class_ = 'info cast')for div in divs]\n",
    "starring"
   ]
  },
  {
   "cell_type": "code",
   "execution_count": 25,
   "id": "laden-collector",
   "metadata": {},
   "outputs": [
    {
     "data": {
      "text/plain": [
       "<div class=\"info cast\">\n",
       "<span class=\"descriptor\">Starring:</span> <a class=\"\" href=\"//www.rottentomatoes.com/celebrity/daniel_craig\">Daniel Craig</a>, <a class=\"\" href=\"//www.rottentomatoes.com/celebrity/rami_malek\">Rami Malek</a>, <a class=\"\" href=\"//www.rottentomatoes.com/celebrity/lea_seydoux\">Léa Seydoux</a>, <a class=\"\" href=\"//www.rottentomatoes.com/celebrity/lashana_lynch\">Lashana Lynch</a></div>"
      ]
     },
     "execution_count": 25,
     "metadata": {},
     "output_type": "execute_result"
    }
   ],
   "source": [
    "starring[0]"
   ]
  },
  {
   "cell_type": "code",
   "execution_count": 26,
   "id": "rising-classification",
   "metadata": {},
   "outputs": [
    {
     "data": {
      "text/plain": [
       "['Daniel Craig',\n",
       " 'Tim Blake Nelson',\n",
       " 'Jonathan Majors',\n",
       " 'Jacob Junior Nayinggul',\n",
       " 'Ryan Reynolds',\n",
       " 'Chloë Grace Moretz',\n",
       " 'Dave Bautista',\n",
       " 'Jason Statham',\n",
       " 'Dwayne Johnson',\n",
       " 'Matthias Schweighöfer']"
      ]
     },
     "execution_count": 26,
     "metadata": {},
     "output_type": "execute_result"
    }
   ],
   "source": [
    "[starring.find('a').string for starring in starring]"
   ]
  },
  {
   "cell_type": "code",
   "execution_count": 27,
   "id": "tropical-cancellation",
   "metadata": {},
   "outputs": [
    {
     "data": {
      "text/plain": [
       "[<a class=\"\" href=\"//www.rottentomatoes.com/celebrity/daniel_craig\">Daniel Craig</a>,\n",
       " <a class=\"\" href=\"//www.rottentomatoes.com/celebrity/rami_malek\">Rami Malek</a>,\n",
       " <a class=\"\" href=\"//www.rottentomatoes.com/celebrity/lea_seydoux\">Léa Seydoux</a>,\n",
       " <a class=\"\" href=\"//www.rottentomatoes.com/celebrity/lashana_lynch\">Lashana Lynch</a>]"
      ]
     },
     "execution_count": 27,
     "metadata": {},
     "output_type": "execute_result"
    }
   ],
   "source": [
    "cast_links = starring[0].find_all('a')\n",
    "cast_links"
   ]
  },
  {
   "cell_type": "code",
   "execution_count": 28,
   "id": "veterinary-poverty",
   "metadata": {},
   "outputs": [
    {
     "data": {
      "text/plain": [
       "['Daniel Craig', 'Rami Malek', 'Léa Seydoux', 'Lashana Lynch']"
      ]
     },
     "execution_count": 28,
     "metadata": {},
     "output_type": "execute_result"
    }
   ],
   "source": [
    "cast_name = [link.string for link in cast_links]\n",
    "cast_name"
   ]
  },
  {
   "cell_type": "code",
   "execution_count": 29,
   "id": "steady-twenty",
   "metadata": {},
   "outputs": [
    {
     "data": {
      "text/plain": [
       "'Daniel Craig, Rami Malek, Léa Seydoux, Lashana Lynch'"
      ]
     },
     "execution_count": 29,
     "metadata": {},
     "output_type": "execute_result"
    }
   ],
   "source": [
    "cast = ', '.join(cast_name)\n",
    "cast"
   ]
  },
  {
   "cell_type": "code",
   "execution_count": 30,
   "id": "occupied-contractor",
   "metadata": {},
   "outputs": [],
   "source": [
    "cast = []\n",
    "\n",
    "for s in starring:\n",
    "    cast_links = s.find_all('a')\n",
    "    cast_names = [link.string for link in cast_links]\n",
    "    cast.append(', '.join(cast_names))"
   ]
  },
  {
   "cell_type": "code",
   "execution_count": 31,
   "id": "lovely-article",
   "metadata": {},
   "outputs": [
    {
     "data": {
      "text/plain": [
       "['Daniel Craig, Rami Malek, Léa Seydoux, Lashana Lynch',\n",
       " 'Tim Blake Nelson, Scott Haze, Gavin Lewis, Trace Adkins',\n",
       " 'Jonathan Majors, Zazie Beetz, Delroy Lindo, LaKeith Stanfield',\n",
       " 'Jacob Junior Nayinggul, Simon Baker, Callan Mulvey, Aaron Pedersen',\n",
       " 'Ryan Reynolds, Jodie Comer, Joe Keery, Lil Rel Howery',\n",
       " 'Chloë Grace Moretz, Nick Robinson, Beulah Koale, Taylor John Smith',\n",
       " 'Dave Bautista, Ella Purnell, Omari Hardwick, Ana de la Reguera',\n",
       " 'Jason Statham, Holt McCallany, Jeffrey Donovan, Josh Hartnett',\n",
       " 'Dwayne Johnson, Emily Blunt, Edgar Ramírez, Jack Whitehall',\n",
       " 'Matthias Schweighöfer, Nathalie Emmanuel, Ruby O. Fee, Stuart Martin']"
      ]
     },
     "execution_count": 31,
     "metadata": {},
     "output_type": "execute_result"
    }
   ],
   "source": [
    "cast"
   ]
  },
  {
   "cell_type": "code",
   "execution_count": 32,
   "id": "turned-threshold",
   "metadata": {},
   "outputs": [],
   "source": [
    "import pandas as pd"
   ]
  },
  {
   "cell_type": "code",
   "execution_count": 33,
   "id": "straight-victorian",
   "metadata": {},
   "outputs": [],
   "source": [
    "movies_data = pd.DataFrame()"
   ]
  },
  {
   "cell_type": "code",
   "execution_count": 34,
   "id": "binding-person",
   "metadata": {},
   "outputs": [],
   "source": [
    "movies_data['Title'] = movie_names\n",
    "movies_data['Year'] = movie_year\n",
    "movies_data['Rate'] = movie_rate\n",
    "movies_data['Directors'] = directors_name\n",
    "movies_data['Cast'] = cast"
   ]
  },
  {
   "cell_type": "code",
   "execution_count": 35,
   "id": "north-delay",
   "metadata": {
    "scrolled": true
   },
   "outputs": [
    {
     "data": {
      "text/html": [
       "<div>\n",
       "<style scoped>\n",
       "    .dataframe tbody tr th:only-of-type {\n",
       "        vertical-align: middle;\n",
       "    }\n",
       "\n",
       "    .dataframe tbody tr th {\n",
       "        vertical-align: top;\n",
       "    }\n",
       "\n",
       "    .dataframe thead th {\n",
       "        text-align: right;\n",
       "    }\n",
       "</style>\n",
       "<table border=\"1\" class=\"dataframe\">\n",
       "  <thead>\n",
       "    <tr style=\"text-align: right;\">\n",
       "      <th></th>\n",
       "      <th>Title</th>\n",
       "      <th>Year</th>\n",
       "      <th>Rate</th>\n",
       "      <th>Directors</th>\n",
       "      <th>Cast</th>\n",
       "    </tr>\n",
       "  </thead>\n",
       "  <tbody>\n",
       "    <tr>\n",
       "      <th>0</th>\n",
       "      <td>No Time to Die</td>\n",
       "      <td>2021</td>\n",
       "      <td>83</td>\n",
       "      <td>Cary Joji Fukunaga</td>\n",
       "      <td>Daniel Craig, Rami Malek, Léa Seydoux, Lashana...</td>\n",
       "    </tr>\n",
       "    <tr>\n",
       "      <th>1</th>\n",
       "      <td>Old Henry</td>\n",
       "      <td>2021</td>\n",
       "      <td>94</td>\n",
       "      <td>Potsy Ponciroli</td>\n",
       "      <td>Tim Blake Nelson, Scott Haze, Gavin Lewis, Tra...</td>\n",
       "    </tr>\n",
       "    <tr>\n",
       "      <th>2</th>\n",
       "      <td>The Harder They Fall</td>\n",
       "      <td>2021</td>\n",
       "      <td>88</td>\n",
       "      <td>Jeymes Samuel</td>\n",
       "      <td>Jonathan Majors, Zazie Beetz, Delroy Lindo, La...</td>\n",
       "    </tr>\n",
       "    <tr>\n",
       "      <th>3</th>\n",
       "      <td>High Ground</td>\n",
       "      <td>2020</td>\n",
       "      <td>90</td>\n",
       "      <td>Stephen Johnson</td>\n",
       "      <td>Jacob Junior Nayinggul, Simon Baker, Callan Mu...</td>\n",
       "    </tr>\n",
       "    <tr>\n",
       "      <th>4</th>\n",
       "      <td>Free Guy</td>\n",
       "      <td>2021</td>\n",
       "      <td>80</td>\n",
       "      <td>Shawn Levy</td>\n",
       "      <td>Ryan Reynolds, Jodie Comer, Joe Keery, Lil Rel...</td>\n",
       "    </tr>\n",
       "  </tbody>\n",
       "</table>\n",
       "</div>"
      ],
      "text/plain": [
       "                  Title  Year  Rate           Directors  \\\n",
       "0        No Time to Die  2021    83  Cary Joji Fukunaga   \n",
       "1             Old Henry  2021    94     Potsy Ponciroli   \n",
       "2  The Harder They Fall  2021    88       Jeymes Samuel   \n",
       "3           High Ground  2020    90     Stephen Johnson   \n",
       "4              Free Guy  2021    80          Shawn Levy   \n",
       "\n",
       "                                                Cast  \n",
       "0  Daniel Craig, Rami Malek, Léa Seydoux, Lashana...  \n",
       "1  Tim Blake Nelson, Scott Haze, Gavin Lewis, Tra...  \n",
       "2  Jonathan Majors, Zazie Beetz, Delroy Lindo, La...  \n",
       "3  Jacob Junior Nayinggul, Simon Baker, Callan Mu...  \n",
       "4  Ryan Reynolds, Jodie Comer, Joe Keery, Lil Rel...  "
      ]
     },
     "execution_count": 35,
     "metadata": {},
     "output_type": "execute_result"
    }
   ],
   "source": [
    "movies_data.head()"
   ]
  },
  {
   "cell_type": "markdown",
   "id": "affecting-forward",
   "metadata": {},
   "source": [
    "### Basketball  Website"
   ]
  },
  {
   "cell_type": "code",
   "execution_count": 36,
   "id": "competent-killing",
   "metadata": {},
   "outputs": [
    {
     "name": "stdout",
     "output_type": "stream",
     "text": [
      "https://www.basketball-reference.com/leagues/NBA_2015_per_game.html\n",
      "https://www.basketball-reference.com/leagues/NBA_2016_per_game.html\n",
      "https://www.basketball-reference.com/leagues/NBA_2017_per_game.html\n",
      "https://www.basketball-reference.com/leagues/NBA_2018_per_game.html\n",
      "https://www.basketball-reference.com/leagues/NBA_2019_per_game.html\n"
     ]
    }
   ],
   "source": [
    "years = [2015,2016,2017,2018,2019]\n",
    "\n",
    "#https://www.basketball-reference.com/leagues/NBA_2019_per_game.html\n",
    "url_link = 'https://www.basketball-reference.com/leagues/NBA_{}_per_game.html'\n",
    "\n",
    "for year in years:\n",
    "  url = url_link.format(year)\n",
    "  print(url)"
   ]
  },
  {
   "cell_type": "code",
   "execution_count": 37,
   "id": "original-championship",
   "metadata": {},
   "outputs": [
    {
     "data": {
      "text/plain": [
       "[      Rk        Player Pos Age   Tm   G  GS    MP   FG   FGA  ...   FT%  ORB  \\\n",
       " 0      1  Álex Abrines  SG  25  OKC  31   2  19.0  1.8   5.1  ...  .923  0.2   \n",
       " 1      2    Quincy Acy  PF  28  PHO  10   0  12.3  0.4   1.8  ...  .700  0.3   \n",
       " 2      3  Jaylen Adams  PG  22  ATL  34   1  12.6  1.1   3.2  ...  .778  0.3   \n",
       " 3      4  Steven Adams   C  25  OKC  80  80  33.4  6.0  10.1  ...  .500  4.9   \n",
       " 4      5   Bam Adebayo   C  21  MIA  82  28  23.3  3.4   5.9  ...  .735  2.0   \n",
       " ..   ...           ...  ..  ..  ...  ..  ..   ...  ...   ...  ...   ...  ...   \n",
       " 729  528  Tyler Zeller   C  29  MEM   4   1  20.5  4.0   7.0  ...  .778  2.3   \n",
       " 730  529    Ante Žižić   C  22  CLE  59  25  18.3  3.1   5.6  ...  .705  1.8   \n",
       " 731  530   Ivica Zubac   C  21  TOT  59  37  17.6  3.6   6.4  ...  .802  1.9   \n",
       " 732  530   Ivica Zubac   C  21  LAL  33  12  15.6  3.4   5.8  ...  .864  1.6   \n",
       " 733  530   Ivica Zubac   C  21  LAC  26  25  20.2  3.8   7.2  ...  .733  2.3   \n",
       " \n",
       "      DRB  TRB  AST  STL  BLK  TOV   PF   PTS  \n",
       " 0    1.4  1.5  0.6  0.5  0.2  0.5  1.7   5.3  \n",
       " 1    2.2  2.5  0.8  0.1  0.4  0.4  2.4   1.7  \n",
       " 2    1.4  1.8  1.9  0.4  0.1  0.8  1.3   3.2  \n",
       " 3    4.6  9.5  1.6  1.5  1.0  1.7  2.6  13.9  \n",
       " 4    5.3  7.3  2.2  0.9  0.8  1.5  2.5   8.9  \n",
       " ..   ...  ...  ...  ...  ...  ...  ...   ...  \n",
       " 729  2.3  4.5  0.8  0.3  0.8  1.0  4.0  11.5  \n",
       " 730  3.6  5.4  0.9  0.2  0.4  1.0  1.9   7.8  \n",
       " 731  4.2  6.1  1.1  0.2  0.9  1.2  2.3   8.9  \n",
       " 732  3.3  4.9  0.8  0.1  0.8  1.0  2.2   8.5  \n",
       " 733  5.3  7.7  1.5  0.4  0.9  1.4  2.5   9.4  \n",
       " \n",
       " [734 rows x 30 columns]]"
      ]
     },
     "execution_count": 37,
     "metadata": {},
     "output_type": "execute_result"
    }
   ],
   "source": [
    "df = pd.read_html(url, header = 0)\n",
    "df"
   ]
  },
  {
   "cell_type": "code",
   "execution_count": 38,
   "id": "angry-creature",
   "metadata": {},
   "outputs": [
    {
     "data": {
      "text/plain": [
       "1"
      ]
     },
     "execution_count": 38,
     "metadata": {},
     "output_type": "execute_result"
    }
   ],
   "source": [
    "len(df)"
   ]
  },
  {
   "cell_type": "code",
   "execution_count": 39,
   "id": "bacterial-theme",
   "metadata": {},
   "outputs": [
    {
     "data": {
      "text/html": [
       "<div>\n",
       "<style scoped>\n",
       "    .dataframe tbody tr th:only-of-type {\n",
       "        vertical-align: middle;\n",
       "    }\n",
       "\n",
       "    .dataframe tbody tr th {\n",
       "        vertical-align: top;\n",
       "    }\n",
       "\n",
       "    .dataframe thead th {\n",
       "        text-align: right;\n",
       "    }\n",
       "</style>\n",
       "<table border=\"1\" class=\"dataframe\">\n",
       "  <thead>\n",
       "    <tr style=\"text-align: right;\">\n",
       "      <th></th>\n",
       "      <th>Rk</th>\n",
       "      <th>Player</th>\n",
       "      <th>Pos</th>\n",
       "      <th>Age</th>\n",
       "      <th>Tm</th>\n",
       "      <th>G</th>\n",
       "      <th>GS</th>\n",
       "      <th>MP</th>\n",
       "      <th>FG</th>\n",
       "      <th>FGA</th>\n",
       "      <th>...</th>\n",
       "      <th>FT%</th>\n",
       "      <th>ORB</th>\n",
       "      <th>DRB</th>\n",
       "      <th>TRB</th>\n",
       "      <th>AST</th>\n",
       "      <th>STL</th>\n",
       "      <th>BLK</th>\n",
       "      <th>TOV</th>\n",
       "      <th>PF</th>\n",
       "      <th>PTS</th>\n",
       "    </tr>\n",
       "  </thead>\n",
       "  <tbody>\n",
       "    <tr>\n",
       "      <th>0</th>\n",
       "      <td>1</td>\n",
       "      <td>Álex Abrines</td>\n",
       "      <td>SG</td>\n",
       "      <td>25</td>\n",
       "      <td>OKC</td>\n",
       "      <td>31</td>\n",
       "      <td>2</td>\n",
       "      <td>19.0</td>\n",
       "      <td>1.8</td>\n",
       "      <td>5.1</td>\n",
       "      <td>...</td>\n",
       "      <td>.923</td>\n",
       "      <td>0.2</td>\n",
       "      <td>1.4</td>\n",
       "      <td>1.5</td>\n",
       "      <td>0.6</td>\n",
       "      <td>0.5</td>\n",
       "      <td>0.2</td>\n",
       "      <td>0.5</td>\n",
       "      <td>1.7</td>\n",
       "      <td>5.3</td>\n",
       "    </tr>\n",
       "    <tr>\n",
       "      <th>1</th>\n",
       "      <td>2</td>\n",
       "      <td>Quincy Acy</td>\n",
       "      <td>PF</td>\n",
       "      <td>28</td>\n",
       "      <td>PHO</td>\n",
       "      <td>10</td>\n",
       "      <td>0</td>\n",
       "      <td>12.3</td>\n",
       "      <td>0.4</td>\n",
       "      <td>1.8</td>\n",
       "      <td>...</td>\n",
       "      <td>.700</td>\n",
       "      <td>0.3</td>\n",
       "      <td>2.2</td>\n",
       "      <td>2.5</td>\n",
       "      <td>0.8</td>\n",
       "      <td>0.1</td>\n",
       "      <td>0.4</td>\n",
       "      <td>0.4</td>\n",
       "      <td>2.4</td>\n",
       "      <td>1.7</td>\n",
       "    </tr>\n",
       "    <tr>\n",
       "      <th>2</th>\n",
       "      <td>3</td>\n",
       "      <td>Jaylen Adams</td>\n",
       "      <td>PG</td>\n",
       "      <td>22</td>\n",
       "      <td>ATL</td>\n",
       "      <td>34</td>\n",
       "      <td>1</td>\n",
       "      <td>12.6</td>\n",
       "      <td>1.1</td>\n",
       "      <td>3.2</td>\n",
       "      <td>...</td>\n",
       "      <td>.778</td>\n",
       "      <td>0.3</td>\n",
       "      <td>1.4</td>\n",
       "      <td>1.8</td>\n",
       "      <td>1.9</td>\n",
       "      <td>0.4</td>\n",
       "      <td>0.1</td>\n",
       "      <td>0.8</td>\n",
       "      <td>1.3</td>\n",
       "      <td>3.2</td>\n",
       "    </tr>\n",
       "    <tr>\n",
       "      <th>3</th>\n",
       "      <td>4</td>\n",
       "      <td>Steven Adams</td>\n",
       "      <td>C</td>\n",
       "      <td>25</td>\n",
       "      <td>OKC</td>\n",
       "      <td>80</td>\n",
       "      <td>80</td>\n",
       "      <td>33.4</td>\n",
       "      <td>6.0</td>\n",
       "      <td>10.1</td>\n",
       "      <td>...</td>\n",
       "      <td>.500</td>\n",
       "      <td>4.9</td>\n",
       "      <td>4.6</td>\n",
       "      <td>9.5</td>\n",
       "      <td>1.6</td>\n",
       "      <td>1.5</td>\n",
       "      <td>1.0</td>\n",
       "      <td>1.7</td>\n",
       "      <td>2.6</td>\n",
       "      <td>13.9</td>\n",
       "    </tr>\n",
       "    <tr>\n",
       "      <th>4</th>\n",
       "      <td>5</td>\n",
       "      <td>Bam Adebayo</td>\n",
       "      <td>C</td>\n",
       "      <td>21</td>\n",
       "      <td>MIA</td>\n",
       "      <td>82</td>\n",
       "      <td>28</td>\n",
       "      <td>23.3</td>\n",
       "      <td>3.4</td>\n",
       "      <td>5.9</td>\n",
       "      <td>...</td>\n",
       "      <td>.735</td>\n",
       "      <td>2.0</td>\n",
       "      <td>5.3</td>\n",
       "      <td>7.3</td>\n",
       "      <td>2.2</td>\n",
       "      <td>0.9</td>\n",
       "      <td>0.8</td>\n",
       "      <td>1.5</td>\n",
       "      <td>2.5</td>\n",
       "      <td>8.9</td>\n",
       "    </tr>\n",
       "    <tr>\n",
       "      <th>...</th>\n",
       "      <td>...</td>\n",
       "      <td>...</td>\n",
       "      <td>...</td>\n",
       "      <td>...</td>\n",
       "      <td>...</td>\n",
       "      <td>...</td>\n",
       "      <td>...</td>\n",
       "      <td>...</td>\n",
       "      <td>...</td>\n",
       "      <td>...</td>\n",
       "      <td>...</td>\n",
       "      <td>...</td>\n",
       "      <td>...</td>\n",
       "      <td>...</td>\n",
       "      <td>...</td>\n",
       "      <td>...</td>\n",
       "      <td>...</td>\n",
       "      <td>...</td>\n",
       "      <td>...</td>\n",
       "      <td>...</td>\n",
       "      <td>...</td>\n",
       "    </tr>\n",
       "    <tr>\n",
       "      <th>729</th>\n",
       "      <td>528</td>\n",
       "      <td>Tyler Zeller</td>\n",
       "      <td>C</td>\n",
       "      <td>29</td>\n",
       "      <td>MEM</td>\n",
       "      <td>4</td>\n",
       "      <td>1</td>\n",
       "      <td>20.5</td>\n",
       "      <td>4.0</td>\n",
       "      <td>7.0</td>\n",
       "      <td>...</td>\n",
       "      <td>.778</td>\n",
       "      <td>2.3</td>\n",
       "      <td>2.3</td>\n",
       "      <td>4.5</td>\n",
       "      <td>0.8</td>\n",
       "      <td>0.3</td>\n",
       "      <td>0.8</td>\n",
       "      <td>1.0</td>\n",
       "      <td>4.0</td>\n",
       "      <td>11.5</td>\n",
       "    </tr>\n",
       "    <tr>\n",
       "      <th>730</th>\n",
       "      <td>529</td>\n",
       "      <td>Ante Žižić</td>\n",
       "      <td>C</td>\n",
       "      <td>22</td>\n",
       "      <td>CLE</td>\n",
       "      <td>59</td>\n",
       "      <td>25</td>\n",
       "      <td>18.3</td>\n",
       "      <td>3.1</td>\n",
       "      <td>5.6</td>\n",
       "      <td>...</td>\n",
       "      <td>.705</td>\n",
       "      <td>1.8</td>\n",
       "      <td>3.6</td>\n",
       "      <td>5.4</td>\n",
       "      <td>0.9</td>\n",
       "      <td>0.2</td>\n",
       "      <td>0.4</td>\n",
       "      <td>1.0</td>\n",
       "      <td>1.9</td>\n",
       "      <td>7.8</td>\n",
       "    </tr>\n",
       "    <tr>\n",
       "      <th>731</th>\n",
       "      <td>530</td>\n",
       "      <td>Ivica Zubac</td>\n",
       "      <td>C</td>\n",
       "      <td>21</td>\n",
       "      <td>TOT</td>\n",
       "      <td>59</td>\n",
       "      <td>37</td>\n",
       "      <td>17.6</td>\n",
       "      <td>3.6</td>\n",
       "      <td>6.4</td>\n",
       "      <td>...</td>\n",
       "      <td>.802</td>\n",
       "      <td>1.9</td>\n",
       "      <td>4.2</td>\n",
       "      <td>6.1</td>\n",
       "      <td>1.1</td>\n",
       "      <td>0.2</td>\n",
       "      <td>0.9</td>\n",
       "      <td>1.2</td>\n",
       "      <td>2.3</td>\n",
       "      <td>8.9</td>\n",
       "    </tr>\n",
       "    <tr>\n",
       "      <th>732</th>\n",
       "      <td>530</td>\n",
       "      <td>Ivica Zubac</td>\n",
       "      <td>C</td>\n",
       "      <td>21</td>\n",
       "      <td>LAL</td>\n",
       "      <td>33</td>\n",
       "      <td>12</td>\n",
       "      <td>15.6</td>\n",
       "      <td>3.4</td>\n",
       "      <td>5.8</td>\n",
       "      <td>...</td>\n",
       "      <td>.864</td>\n",
       "      <td>1.6</td>\n",
       "      <td>3.3</td>\n",
       "      <td>4.9</td>\n",
       "      <td>0.8</td>\n",
       "      <td>0.1</td>\n",
       "      <td>0.8</td>\n",
       "      <td>1.0</td>\n",
       "      <td>2.2</td>\n",
       "      <td>8.5</td>\n",
       "    </tr>\n",
       "    <tr>\n",
       "      <th>733</th>\n",
       "      <td>530</td>\n",
       "      <td>Ivica Zubac</td>\n",
       "      <td>C</td>\n",
       "      <td>21</td>\n",
       "      <td>LAC</td>\n",
       "      <td>26</td>\n",
       "      <td>25</td>\n",
       "      <td>20.2</td>\n",
       "      <td>3.8</td>\n",
       "      <td>7.2</td>\n",
       "      <td>...</td>\n",
       "      <td>.733</td>\n",
       "      <td>2.3</td>\n",
       "      <td>5.3</td>\n",
       "      <td>7.7</td>\n",
       "      <td>1.5</td>\n",
       "      <td>0.4</td>\n",
       "      <td>0.9</td>\n",
       "      <td>1.4</td>\n",
       "      <td>2.5</td>\n",
       "      <td>9.4</td>\n",
       "    </tr>\n",
       "  </tbody>\n",
       "</table>\n",
       "<p>734 rows × 30 columns</p>\n",
       "</div>"
      ],
      "text/plain": [
       "      Rk        Player Pos Age   Tm   G  GS    MP   FG   FGA  ...   FT%  ORB  \\\n",
       "0      1  Álex Abrines  SG  25  OKC  31   2  19.0  1.8   5.1  ...  .923  0.2   \n",
       "1      2    Quincy Acy  PF  28  PHO  10   0  12.3  0.4   1.8  ...  .700  0.3   \n",
       "2      3  Jaylen Adams  PG  22  ATL  34   1  12.6  1.1   3.2  ...  .778  0.3   \n",
       "3      4  Steven Adams   C  25  OKC  80  80  33.4  6.0  10.1  ...  .500  4.9   \n",
       "4      5   Bam Adebayo   C  21  MIA  82  28  23.3  3.4   5.9  ...  .735  2.0   \n",
       "..   ...           ...  ..  ..  ...  ..  ..   ...  ...   ...  ...   ...  ...   \n",
       "729  528  Tyler Zeller   C  29  MEM   4   1  20.5  4.0   7.0  ...  .778  2.3   \n",
       "730  529    Ante Žižić   C  22  CLE  59  25  18.3  3.1   5.6  ...  .705  1.8   \n",
       "731  530   Ivica Zubac   C  21  TOT  59  37  17.6  3.6   6.4  ...  .802  1.9   \n",
       "732  530   Ivica Zubac   C  21  LAL  33  12  15.6  3.4   5.8  ...  .864  1.6   \n",
       "733  530   Ivica Zubac   C  21  LAC  26  25  20.2  3.8   7.2  ...  .733  2.3   \n",
       "\n",
       "     DRB  TRB  AST  STL  BLK  TOV   PF   PTS  \n",
       "0    1.4  1.5  0.6  0.5  0.2  0.5  1.7   5.3  \n",
       "1    2.2  2.5  0.8  0.1  0.4  0.4  2.4   1.7  \n",
       "2    1.4  1.8  1.9  0.4  0.1  0.8  1.3   3.2  \n",
       "3    4.6  9.5  1.6  1.5  1.0  1.7  2.6  13.9  \n",
       "4    5.3  7.3  2.2  0.9  0.8  1.5  2.5   8.9  \n",
       "..   ...  ...  ...  ...  ...  ...  ...   ...  \n",
       "729  2.3  4.5  0.8  0.3  0.8  1.0  4.0  11.5  \n",
       "730  3.6  5.4  0.9  0.2  0.4  1.0  1.9   7.8  \n",
       "731  4.2  6.1  1.1  0.2  0.9  1.2  2.3   8.9  \n",
       "732  3.3  4.9  0.8  0.1  0.8  1.0  2.2   8.5  \n",
       "733  5.3  7.7  1.5  0.4  0.9  1.4  2.5   9.4  \n",
       "\n",
       "[734 rows x 30 columns]"
      ]
     },
     "execution_count": 39,
     "metadata": {},
     "output_type": "execute_result"
    }
   ],
   "source": [
    "df[0]"
   ]
  },
  {
   "cell_type": "code",
   "execution_count": 40,
   "id": "precious-penalty",
   "metadata": {},
   "outputs": [
    {
     "data": {
      "text/html": [
       "<div>\n",
       "<style scoped>\n",
       "    .dataframe tbody tr th:only-of-type {\n",
       "        vertical-align: middle;\n",
       "    }\n",
       "\n",
       "    .dataframe tbody tr th {\n",
       "        vertical-align: top;\n",
       "    }\n",
       "\n",
       "    .dataframe thead th {\n",
       "        text-align: right;\n",
       "    }\n",
       "</style>\n",
       "<table border=\"1\" class=\"dataframe\">\n",
       "  <thead>\n",
       "    <tr style=\"text-align: right;\">\n",
       "      <th></th>\n",
       "      <th>Rk</th>\n",
       "      <th>Player</th>\n",
       "      <th>Pos</th>\n",
       "      <th>Age</th>\n",
       "      <th>Tm</th>\n",
       "      <th>G</th>\n",
       "      <th>GS</th>\n",
       "      <th>MP</th>\n",
       "      <th>FG</th>\n",
       "      <th>FGA</th>\n",
       "      <th>...</th>\n",
       "      <th>FT%</th>\n",
       "      <th>ORB</th>\n",
       "      <th>DRB</th>\n",
       "      <th>TRB</th>\n",
       "      <th>AST</th>\n",
       "      <th>STL</th>\n",
       "      <th>BLK</th>\n",
       "      <th>TOV</th>\n",
       "      <th>PF</th>\n",
       "      <th>PTS</th>\n",
       "    </tr>\n",
       "  </thead>\n",
       "  <tbody>\n",
       "    <tr>\n",
       "      <th>0</th>\n",
       "      <td>1</td>\n",
       "      <td>Álex Abrines</td>\n",
       "      <td>SG</td>\n",
       "      <td>25</td>\n",
       "      <td>OKC</td>\n",
       "      <td>31</td>\n",
       "      <td>2</td>\n",
       "      <td>19.0</td>\n",
       "      <td>1.8</td>\n",
       "      <td>5.1</td>\n",
       "      <td>...</td>\n",
       "      <td>.923</td>\n",
       "      <td>0.2</td>\n",
       "      <td>1.4</td>\n",
       "      <td>1.5</td>\n",
       "      <td>0.6</td>\n",
       "      <td>0.5</td>\n",
       "      <td>0.2</td>\n",
       "      <td>0.5</td>\n",
       "      <td>1.7</td>\n",
       "      <td>5.3</td>\n",
       "    </tr>\n",
       "    <tr>\n",
       "      <th>1</th>\n",
       "      <td>2</td>\n",
       "      <td>Quincy Acy</td>\n",
       "      <td>PF</td>\n",
       "      <td>28</td>\n",
       "      <td>PHO</td>\n",
       "      <td>10</td>\n",
       "      <td>0</td>\n",
       "      <td>12.3</td>\n",
       "      <td>0.4</td>\n",
       "      <td>1.8</td>\n",
       "      <td>...</td>\n",
       "      <td>.700</td>\n",
       "      <td>0.3</td>\n",
       "      <td>2.2</td>\n",
       "      <td>2.5</td>\n",
       "      <td>0.8</td>\n",
       "      <td>0.1</td>\n",
       "      <td>0.4</td>\n",
       "      <td>0.4</td>\n",
       "      <td>2.4</td>\n",
       "      <td>1.7</td>\n",
       "    </tr>\n",
       "    <tr>\n",
       "      <th>2</th>\n",
       "      <td>3</td>\n",
       "      <td>Jaylen Adams</td>\n",
       "      <td>PG</td>\n",
       "      <td>22</td>\n",
       "      <td>ATL</td>\n",
       "      <td>34</td>\n",
       "      <td>1</td>\n",
       "      <td>12.6</td>\n",
       "      <td>1.1</td>\n",
       "      <td>3.2</td>\n",
       "      <td>...</td>\n",
       "      <td>.778</td>\n",
       "      <td>0.3</td>\n",
       "      <td>1.4</td>\n",
       "      <td>1.8</td>\n",
       "      <td>1.9</td>\n",
       "      <td>0.4</td>\n",
       "      <td>0.1</td>\n",
       "      <td>0.8</td>\n",
       "      <td>1.3</td>\n",
       "      <td>3.2</td>\n",
       "    </tr>\n",
       "    <tr>\n",
       "      <th>3</th>\n",
       "      <td>4</td>\n",
       "      <td>Steven Adams</td>\n",
       "      <td>C</td>\n",
       "      <td>25</td>\n",
       "      <td>OKC</td>\n",
       "      <td>80</td>\n",
       "      <td>80</td>\n",
       "      <td>33.4</td>\n",
       "      <td>6.0</td>\n",
       "      <td>10.1</td>\n",
       "      <td>...</td>\n",
       "      <td>.500</td>\n",
       "      <td>4.9</td>\n",
       "      <td>4.6</td>\n",
       "      <td>9.5</td>\n",
       "      <td>1.6</td>\n",
       "      <td>1.5</td>\n",
       "      <td>1.0</td>\n",
       "      <td>1.7</td>\n",
       "      <td>2.6</td>\n",
       "      <td>13.9</td>\n",
       "    </tr>\n",
       "    <tr>\n",
       "      <th>4</th>\n",
       "      <td>5</td>\n",
       "      <td>Bam Adebayo</td>\n",
       "      <td>C</td>\n",
       "      <td>21</td>\n",
       "      <td>MIA</td>\n",
       "      <td>82</td>\n",
       "      <td>28</td>\n",
       "      <td>23.3</td>\n",
       "      <td>3.4</td>\n",
       "      <td>5.9</td>\n",
       "      <td>...</td>\n",
       "      <td>.735</td>\n",
       "      <td>2.0</td>\n",
       "      <td>5.3</td>\n",
       "      <td>7.3</td>\n",
       "      <td>2.2</td>\n",
       "      <td>0.9</td>\n",
       "      <td>0.8</td>\n",
       "      <td>1.5</td>\n",
       "      <td>2.5</td>\n",
       "      <td>8.9</td>\n",
       "    </tr>\n",
       "    <tr>\n",
       "      <th>...</th>\n",
       "      <td>...</td>\n",
       "      <td>...</td>\n",
       "      <td>...</td>\n",
       "      <td>...</td>\n",
       "      <td>...</td>\n",
       "      <td>...</td>\n",
       "      <td>...</td>\n",
       "      <td>...</td>\n",
       "      <td>...</td>\n",
       "      <td>...</td>\n",
       "      <td>...</td>\n",
       "      <td>...</td>\n",
       "      <td>...</td>\n",
       "      <td>...</td>\n",
       "      <td>...</td>\n",
       "      <td>...</td>\n",
       "      <td>...</td>\n",
       "      <td>...</td>\n",
       "      <td>...</td>\n",
       "      <td>...</td>\n",
       "      <td>...</td>\n",
       "    </tr>\n",
       "    <tr>\n",
       "      <th>729</th>\n",
       "      <td>528</td>\n",
       "      <td>Tyler Zeller</td>\n",
       "      <td>C</td>\n",
       "      <td>29</td>\n",
       "      <td>MEM</td>\n",
       "      <td>4</td>\n",
       "      <td>1</td>\n",
       "      <td>20.5</td>\n",
       "      <td>4.0</td>\n",
       "      <td>7.0</td>\n",
       "      <td>...</td>\n",
       "      <td>.778</td>\n",
       "      <td>2.3</td>\n",
       "      <td>2.3</td>\n",
       "      <td>4.5</td>\n",
       "      <td>0.8</td>\n",
       "      <td>0.3</td>\n",
       "      <td>0.8</td>\n",
       "      <td>1.0</td>\n",
       "      <td>4.0</td>\n",
       "      <td>11.5</td>\n",
       "    </tr>\n",
       "    <tr>\n",
       "      <th>730</th>\n",
       "      <td>529</td>\n",
       "      <td>Ante Žižić</td>\n",
       "      <td>C</td>\n",
       "      <td>22</td>\n",
       "      <td>CLE</td>\n",
       "      <td>59</td>\n",
       "      <td>25</td>\n",
       "      <td>18.3</td>\n",
       "      <td>3.1</td>\n",
       "      <td>5.6</td>\n",
       "      <td>...</td>\n",
       "      <td>.705</td>\n",
       "      <td>1.8</td>\n",
       "      <td>3.6</td>\n",
       "      <td>5.4</td>\n",
       "      <td>0.9</td>\n",
       "      <td>0.2</td>\n",
       "      <td>0.4</td>\n",
       "      <td>1.0</td>\n",
       "      <td>1.9</td>\n",
       "      <td>7.8</td>\n",
       "    </tr>\n",
       "    <tr>\n",
       "      <th>731</th>\n",
       "      <td>530</td>\n",
       "      <td>Ivica Zubac</td>\n",
       "      <td>C</td>\n",
       "      <td>21</td>\n",
       "      <td>TOT</td>\n",
       "      <td>59</td>\n",
       "      <td>37</td>\n",
       "      <td>17.6</td>\n",
       "      <td>3.6</td>\n",
       "      <td>6.4</td>\n",
       "      <td>...</td>\n",
       "      <td>.802</td>\n",
       "      <td>1.9</td>\n",
       "      <td>4.2</td>\n",
       "      <td>6.1</td>\n",
       "      <td>1.1</td>\n",
       "      <td>0.2</td>\n",
       "      <td>0.9</td>\n",
       "      <td>1.2</td>\n",
       "      <td>2.3</td>\n",
       "      <td>8.9</td>\n",
       "    </tr>\n",
       "    <tr>\n",
       "      <th>732</th>\n",
       "      <td>530</td>\n",
       "      <td>Ivica Zubac</td>\n",
       "      <td>C</td>\n",
       "      <td>21</td>\n",
       "      <td>LAL</td>\n",
       "      <td>33</td>\n",
       "      <td>12</td>\n",
       "      <td>15.6</td>\n",
       "      <td>3.4</td>\n",
       "      <td>5.8</td>\n",
       "      <td>...</td>\n",
       "      <td>.864</td>\n",
       "      <td>1.6</td>\n",
       "      <td>3.3</td>\n",
       "      <td>4.9</td>\n",
       "      <td>0.8</td>\n",
       "      <td>0.1</td>\n",
       "      <td>0.8</td>\n",
       "      <td>1.0</td>\n",
       "      <td>2.2</td>\n",
       "      <td>8.5</td>\n",
       "    </tr>\n",
       "    <tr>\n",
       "      <th>733</th>\n",
       "      <td>530</td>\n",
       "      <td>Ivica Zubac</td>\n",
       "      <td>C</td>\n",
       "      <td>21</td>\n",
       "      <td>LAC</td>\n",
       "      <td>26</td>\n",
       "      <td>25</td>\n",
       "      <td>20.2</td>\n",
       "      <td>3.8</td>\n",
       "      <td>7.2</td>\n",
       "      <td>...</td>\n",
       "      <td>.733</td>\n",
       "      <td>2.3</td>\n",
       "      <td>5.3</td>\n",
       "      <td>7.7</td>\n",
       "      <td>1.5</td>\n",
       "      <td>0.4</td>\n",
       "      <td>0.9</td>\n",
       "      <td>1.4</td>\n",
       "      <td>2.5</td>\n",
       "      <td>9.4</td>\n",
       "    </tr>\n",
       "  </tbody>\n",
       "</table>\n",
       "<p>734 rows × 30 columns</p>\n",
       "</div>"
      ],
      "text/plain": [
       "      Rk        Player Pos Age   Tm   G  GS    MP   FG   FGA  ...   FT%  ORB  \\\n",
       "0      1  Álex Abrines  SG  25  OKC  31   2  19.0  1.8   5.1  ...  .923  0.2   \n",
       "1      2    Quincy Acy  PF  28  PHO  10   0  12.3  0.4   1.8  ...  .700  0.3   \n",
       "2      3  Jaylen Adams  PG  22  ATL  34   1  12.6  1.1   3.2  ...  .778  0.3   \n",
       "3      4  Steven Adams   C  25  OKC  80  80  33.4  6.0  10.1  ...  .500  4.9   \n",
       "4      5   Bam Adebayo   C  21  MIA  82  28  23.3  3.4   5.9  ...  .735  2.0   \n",
       "..   ...           ...  ..  ..  ...  ..  ..   ...  ...   ...  ...   ...  ...   \n",
       "729  528  Tyler Zeller   C  29  MEM   4   1  20.5  4.0   7.0  ...  .778  2.3   \n",
       "730  529    Ante Žižić   C  22  CLE  59  25  18.3  3.1   5.6  ...  .705  1.8   \n",
       "731  530   Ivica Zubac   C  21  TOT  59  37  17.6  3.6   6.4  ...  .802  1.9   \n",
       "732  530   Ivica Zubac   C  21  LAL  33  12  15.6  3.4   5.8  ...  .864  1.6   \n",
       "733  530   Ivica Zubac   C  21  LAC  26  25  20.2  3.8   7.2  ...  .733  2.3   \n",
       "\n",
       "     DRB  TRB  AST  STL  BLK  TOV   PF   PTS  \n",
       "0    1.4  1.5  0.6  0.5  0.2  0.5  1.7   5.3  \n",
       "1    2.2  2.5  0.8  0.1  0.4  0.4  2.4   1.7  \n",
       "2    1.4  1.8  1.9  0.4  0.1  0.8  1.3   3.2  \n",
       "3    4.6  9.5  1.6  1.5  1.0  1.7  2.6  13.9  \n",
       "4    5.3  7.3  2.2  0.9  0.8  1.5  2.5   8.9  \n",
       "..   ...  ...  ...  ...  ...  ...  ...   ...  \n",
       "729  2.3  4.5  0.8  0.3  0.8  1.0  4.0  11.5  \n",
       "730  3.6  5.4  0.9  0.2  0.4  1.0  1.9   7.8  \n",
       "731  4.2  6.1  1.1  0.2  0.9  1.2  2.3   8.9  \n",
       "732  3.3  4.9  0.8  0.1  0.8  1.0  2.2   8.5  \n",
       "733  5.3  7.7  1.5  0.4  0.9  1.4  2.5   9.4  \n",
       "\n",
       "[734 rows x 30 columns]"
      ]
     },
     "execution_count": 40,
     "metadata": {},
     "output_type": "execute_result"
    }
   ],
   "source": [
    "df2019 = df[0]\n",
    "df2019"
   ]
  }
 ],
 "metadata": {
  "kernelspec": {
   "display_name": "Python 3",
   "language": "python",
   "name": "python3"
  },
  "language_info": {
   "codemirror_mode": {
    "name": "ipython",
    "version": 3
   },
   "file_extension": ".py",
   "mimetype": "text/x-python",
   "name": "python",
   "nbconvert_exporter": "python",
   "pygments_lexer": "ipython3",
   "version": "3.7.9"
  }
 },
 "nbformat": 4,
 "nbformat_minor": 5
}
